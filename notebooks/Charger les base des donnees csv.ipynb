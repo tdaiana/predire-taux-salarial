{
 "cells": [
  {
   "cell_type": "markdown",
   "id": "678cbefb",
   "metadata": {},
   "source": [
    "# Informations sur la base de données.\n",
    "\n",
    "#### Buts de l'analyse\n",
    "\n",
    "#### Étapes de traitement des données"
   ]
  },
  {
   "cell_type": "markdown",
   "id": "787a9300",
   "metadata": {},
   "source": [
    "#### Importation des librairies utilisées."
   ]
  },
  {
   "cell_type": "code",
   "execution_count": null,
   "id": "1f984516",
   "metadata": {},
   "outputs": [],
   "source": [
    "import os\n",
    "import numpy as np\n",
    "import pandas as pd\n",
    "os.environ['KMP_DUPLICATE_LIB_OK']='True'\n",
    "# Pour la reproductibilité des résultats\n",
    "np.random.seed(43)"
   ]
  },
  {
   "cell_type": "markdown",
   "id": "a0424b06",
   "metadata": {},
   "source": [
    "# Partie I: Prétraitement des données.\n",
    "\n",
    "#### Lecture des bases de données en format CSV.\n",
    "\n",
    "Les données sont écrites dans un DataFrame de la librairie Pandas."
   ]
  },
  {
   "cell_type": "code",
   "execution_count": null,
   "id": "223c1465",
   "metadata": {},
   "outputs": [],
   "source": [
    "# Salaire des employés selon la profession, données annuelles\n",
    "file=r\"D:\\Daiana\\Documents\\AEC Intelligence artificielle\\Mise en place d'un écosystème d'IA\\salary\\data\\external\\SalaireCNP\\14100340-fra\"\n",
    "\n",
    "# Salaire des employés selon la profession, données mensuelles non désaisonnalisées\n",
    "#file1=r\"D:\\Daiana\\Documents\\AEC Intelligence artificielle\\Stage\\Donnee\\Salaire\\SalairesCNP\\14100306-fra\"\n",
    "\n",
    "#Durée de l'emploi selon la profession, données mensuelles non désaisonnalisées\n",
    "file2=r\"D:\\Daiana\\Documents\\AEC Intelligence artificielle\\Mise en place d'un écosystème d'IA\\salary\\data\\external\\SalaireCNP\\14100304-fra\"\n",
    "\n",
    "#Postes vacants et moyenne du salaire horaire offert selon la profession (grande catégorie professionnelle), données trimestrielles non désaisonnalisées\n",
    "file3=r\"D:\\Daiana\\Documents\\AEC Intelligence artificielle\\Mise en place d'un écosystème d'IA\\salary\\data\\external\\Postes\\14100356-fra\"\n",
    "\n",
    "#Caractéristiques de la population active selon la profession, données mensuelles non désaisonnalisées\n",
    "\n",
    "file4=r\"D:\\Daiana\\Documents\\AEC Intelligence artificielle\\Mise en place d'un écosystème d'IA\\salary\\data\\external\\Caracteristiques de la population\\14100296-fra\"\n",
    "\n",
    "#Heures habituellement travaillées selon la profession, données mensuelles non désaisonnalisées\n",
    "file5=r\"D:\\Daiana\\Documents\\AEC Intelligence artificielle\\Mise en place d'un écosystème d'IA\\salary\\data\\external\\Heures travailles\\14100298-fra\"\n",
    "\n",
    "#Heures effectivement travaillées selon la profession, données mensuelles non désaisonnalisées\n",
    "file6=r\"D:\\Daiana\\Documents\\AEC Intelligence artificielle\\Mise en place d'un écosystème d'IA\\salary\\data\\external\\Heures travailles\\14100300-fra\"\n",
    "\n",
    "#Personnes ayant plus d'un emploi selon la profession, données mensuelles non désaisonnalisées\n",
    "file7=r\"D:\\Daiana\\Documents\\AEC Intelligence artificielle\\Mise en place d'un écosystème d'IA\\salary\\data\\external\\Plusieurs emploi\\14100302-fra\"\n",
    "\n",
    "#Statistiques du revenu d'emploi  2016\n",
    "#file8=r\"D:\\Daiana\\Documents\\AEC Intelligence artificielle\\Stage\\Donnee\\Salaire\\SalairesCNP\\Stat education\\98-400-X2016271_FRA_CSV\"\n",
    "\n",
    "#Raison pour avoir quitté l'emploi durant l'année précédente, données mensuelles non désaisonnalisées\n",
    "file9=r\"D:\\Daiana\\Documents\\AEC Intelligence artificielle\\Mise en place d'un écosystème d'IA\\salary\\data\\external\\Absences\\14100125-fra\"\n",
    "\n",
    "#Absence du travail chez les employés à temps plein, données annuelles\n",
    "file10=r\"D:\\Daiana\\Documents\\AEC Intelligence artificielle\\Mise en place d'un écosystème d'IA\\salary\\data\\external\\Absences\\14100390-fra\"\n"
   ]
  },
  {
   "cell_type": "code",
   "execution_count": null,
   "id": "f9696521",
   "metadata": {},
   "outputs": [],
   "source": [
    "#os.path.join(file)"
   ]
  },
  {
   "cell_type": "code",
   "execution_count": null,
   "id": "bcc55c23",
   "metadata": {},
   "outputs": [],
   "source": [
    "def load_files(dir,nom_fichier, sep):\n",
    "    csv_path = os.path.join(dir,nom_fichier)\n",
    "    return pd.read_csv(csv_path,sep=sep)"
   ]
  },
  {
   "cell_type": "code",
   "execution_count": null,
   "id": "4bcbec61",
   "metadata": {},
   "outputs": [],
   "source": [
    "sal_an_CNP_ = load_files(file,\"14100340.csv\",\";\")"
   ]
  },
  {
   "cell_type": "code",
   "execution_count": null,
   "id": "e8decc0f",
   "metadata": {},
   "outputs": [],
   "source": [
    "#sal_mois_CNP_ = load_files(file1,\"14100306.csv\",\";\")"
   ]
  },
  {
   "cell_type": "code",
   "execution_count": null,
   "id": "4b5c7974",
   "metadata": {},
   "outputs": [],
   "source": [
    "dureemploi_mois_CNP_=load_files(file2,\"14100304.csv\",\";\")"
   ]
  },
  {
   "cell_type": "code",
   "execution_count": null,
   "id": "5f311137",
   "metadata": {},
   "outputs": [],
   "source": [
    "postes_trim_CNP_=load_files(file3,\"14100356.csv\",\";\")"
   ]
  },
  {
   "cell_type": "code",
   "execution_count": null,
   "id": "ee8d6ecf",
   "metadata": {},
   "outputs": [],
   "source": [
    "caract_population_active_=load_files(file4,\"14100296.csv\",\";\")"
   ]
  },
  {
   "cell_type": "code",
   "execution_count": null,
   "id": "24b19338",
   "metadata": {},
   "outputs": [],
   "source": [
    "heures_habituellement_travaille_=load_files(file5,\"14100298.csv\",\";\")"
   ]
  },
  {
   "cell_type": "code",
   "execution_count": null,
   "id": "f4a9fe72",
   "metadata": {},
   "outputs": [],
   "source": [
    "heures_effectivement_travaille_=load_files(file6,\"14100300.csv\",\";\")"
   ]
  },
  {
   "cell_type": "code",
   "execution_count": null,
   "id": "ab02967d",
   "metadata": {},
   "outputs": [],
   "source": [
    "plus_un_emploi_=load_files(file7,\"14100302.csv\",\";\")"
   ]
  },
  {
   "cell_type": "code",
   "execution_count": null,
   "id": "d51d3c87",
   "metadata": {},
   "outputs": [],
   "source": [
    "#stat_emploi_2016_=load_files(file8,\"98-400-X2016271_Francais_CSV_data.csv\",\",\")"
   ]
  },
  {
   "cell_type": "code",
   "execution_count": null,
   "id": "b021f6a8",
   "metadata": {},
   "outputs": [],
   "source": [
    "raison_quitter_emploi_=load_files(file9,\"14100125.csv\",\";\")"
   ]
  },
  {
   "cell_type": "code",
   "execution_count": null,
   "id": "0386a355",
   "metadata": {},
   "outputs": [],
   "source": [
    "absence_travail_temps_plein_=load_files(file10,'14100390.csv',';')"
   ]
  },
  {
   "cell_type": "code",
   "execution_count": null,
   "id": "e42a33c2",
   "metadata": {},
   "outputs": [],
   "source": [
    "sal_an_CNP=sal_an_CNP_"
   ]
  },
  {
   "cell_type": "code",
   "execution_count": null,
   "id": "0e8713b6",
   "metadata": {},
   "outputs": [],
   "source": [
    "dureemploi_mois_CNP=dureemploi_mois_CNP_"
   ]
  },
  {
   "cell_type": "code",
   "execution_count": null,
   "id": "b28e5a30",
   "metadata": {},
   "outputs": [],
   "source": [
    "postes_trim_CNP=postes_trim_CNP_"
   ]
  },
  {
   "cell_type": "code",
   "execution_count": null,
   "id": "a5d81fcb",
   "metadata": {},
   "outputs": [],
   "source": [
    "caract_population_active=caract_population_active_"
   ]
  },
  {
   "cell_type": "code",
   "execution_count": null,
   "id": "cc587e88",
   "metadata": {},
   "outputs": [],
   "source": [
    "heures_habituellement_travaille=heures_habituellement_travaille_"
   ]
  },
  {
   "cell_type": "code",
   "execution_count": null,
   "id": "95b04ce4",
   "metadata": {},
   "outputs": [],
   "source": [
    "heures_effectivement_travaille=heures_effectivement_travaille_"
   ]
  },
  {
   "cell_type": "code",
   "execution_count": null,
   "id": "4a7e8512",
   "metadata": {},
   "outputs": [],
   "source": [
    "plus_un_emploi=plus_un_emploi_"
   ]
  },
  {
   "cell_type": "code",
   "execution_count": null,
   "id": "9bef757c",
   "metadata": {},
   "outputs": [],
   "source": [
    "#stat_emploi_2016=stat_emploi_2016_"
   ]
  },
  {
   "cell_type": "code",
   "execution_count": null,
   "id": "23578cee",
   "metadata": {},
   "outputs": [],
   "source": [
    "raison_quitter_emploi=raison_quitter_emploi_"
   ]
  },
  {
   "cell_type": "code",
   "execution_count": null,
   "id": "86e79cc0",
   "metadata": {},
   "outputs": [],
   "source": [
    "absence_travail_temps_plein=absence_travail_temps_plein_"
   ]
  },
  {
   "cell_type": "markdown",
   "id": "e81a8329",
   "metadata": {},
   "source": [
    "### BD1: Salaire des employés selon la profession, données annuelles"
   ]
  },
  {
   "cell_type": "code",
   "execution_count": null,
   "id": "bc66dc00",
   "metadata": {},
   "outputs": [],
   "source": [
    "sal_an_CNP.shape"
   ]
  },
  {
   "cell_type": "code",
   "execution_count": null,
   "id": "59338139",
   "metadata": {},
   "outputs": [],
   "source": [
    "sal_an_CNP.columns"
   ]
  },
  {
   "cell_type": "markdown",
   "id": "0871ddb1",
   "metadata": {},
   "source": [
    "#### Select les variables significatives"
   ]
  },
  {
   "cell_type": "code",
   "execution_count": null,
   "id": "26debca0",
   "metadata": {},
   "outputs": [],
   "source": [
    "sal_an_CNP=sal_an_CNP.drop(labels=[\"DGUID\",\"IDENTIFICATEUR D'UNITÉ DE MESURE\",\n",
    "       \"FACTEUR SCALAIRE\", \"IDENTIFICATEUR SCALAIRE\", \"VECTEUR\", \"COORDONNÉES\",\"STATUS\",\n",
    "        \"SYMBOLE\", \"TERMINÉ\", \"DÉCIMALES\"],axis=1)"
   ]
  },
  {
   "cell_type": "markdown",
   "id": "9cf097e1",
   "metadata": {},
   "source": [
    "#### Renommer les variables"
   ]
  },
  {
   "cell_type": "code",
   "execution_count": null,
   "id": "e5782bb0",
   "metadata": {},
   "outputs": [],
   "source": [
    "sal_an_CNP.rename(columns={\"PÉRIODE DE RÉFÉRENCE\": \"Annee\", \"GÉO\": \"Regions\",\"Salaires\":\"Type salaire\",\n",
    "                           \"Classification nationale des professions (CNP)\":\"CNP\",\n",
    "                           \"UNITÉ DE MESURE\":'Unite de mesure',\"VALEUR\":'Valeur'},inplace=True)"
   ]
  },
  {
   "cell_type": "code",
   "execution_count": null,
   "id": "f8002083",
   "metadata": {},
   "outputs": [],
   "source": [
    "sal_an_CNP[\"Type salaire\"].value_counts()"
   ]
  },
  {
   "cell_type": "markdown",
   "id": "02dfa9c0",
   "metadata": {},
   "source": [
    "#### Pivoter le type de salaire"
   ]
  },
  {
   "cell_type": "code",
   "execution_count": null,
   "id": "df1219df",
   "metadata": {},
   "outputs": [],
   "source": [
    "table = pd.pivot_table(sal_an_CNP, values='Valeur', index=['Annee', 'Regions','CNP','Sexe',\"Groupe d'âge\",'Genre de travail'],\n",
    "                    columns=['Type salaire'], aggfunc=np.sum) "
   ]
  },
  {
   "cell_type": "code",
   "execution_count": null,
   "id": "d6d9cde3",
   "metadata": {},
   "outputs": [],
   "source": [
    "sal_an_CNP_ = table.reset_index()"
   ]
  },
  {
   "cell_type": "code",
   "execution_count": null,
   "id": "a7da888a",
   "metadata": {},
   "outputs": [],
   "source": [
    "sal_an_CNP_.columns"
   ]
  },
  {
   "cell_type": "code",
   "execution_count": null,
   "id": "73000a0e",
   "metadata": {},
   "outputs": [],
   "source": [
    "sal_an_CNP_.shape"
   ]
  },
  {
   "cell_type": "markdown",
   "id": "fdebb822",
   "metadata": {},
   "source": [
    "#### Export to csv"
   ]
  },
  {
   "cell_type": "code",
   "execution_count": null,
   "id": "172e5caf",
   "metadata": {},
   "outputs": [],
   "source": [
    "cwd=r\"D:\\Daiana\\Documents\\AEC Intelligence artificielle\\Mise en place d'un écosystème d'IA\\salary\\data\\interim\""
   ]
  },
  {
   "cell_type": "code",
   "execution_count": null,
   "id": "092c584c",
   "metadata": {},
   "outputs": [],
   "source": [
    "sal_an_CNP_.to_csv(cwd+\"\\salaire_employe_CNP\", index = False)"
   ]
  },
  {
   "cell_type": "markdown",
   "id": "46146bfb",
   "metadata": {},
   "source": [
    "### BD2: Duree de l'emploi, selon la profession"
   ]
  },
  {
   "cell_type": "markdown",
   "id": "eb299003",
   "metadata": {},
   "source": [
    "#### Select les variables significatives"
   ]
  },
  {
   "cell_type": "code",
   "execution_count": null,
   "id": "20fe1808",
   "metadata": {},
   "outputs": [],
   "source": [
    "dureemploi_mois_CNP=dureemploi_mois_CNP.drop(labels=[\"DGUID\",\"IDENTIFICATEUR D'UNITÉ DE MESURE\",\n",
    "       \"FACTEUR SCALAIRE\", \"IDENTIFICATEUR SCALAIRE\", \"VECTEUR\", \"COORDONNÉES\",\"STATUS\",\n",
    "        \"SYMBOLE\", \"TERMINÉ\", \"DÉCIMALES\"],axis=1)"
   ]
  },
  {
   "cell_type": "markdown",
   "id": "d823e252",
   "metadata": {},
   "source": [
    "dureemploi_mois_CNP"
   ]
  },
  {
   "cell_type": "markdown",
   "id": "a00a0a0d",
   "metadata": {},
   "source": [
    "#### Renommer variable"
   ]
  },
  {
   "cell_type": "code",
   "execution_count": null,
   "id": "a5ee3f06",
   "metadata": {},
   "outputs": [],
   "source": [
    "dureemploi_mois_CNP.rename(columns={\"PÉRIODE DE RÉFÉRENCE\": \"Annee/Mois\", \"GÉO\": \"Regions\",\n",
    "                           \"Classification nationale des professions (CNP)\":\"CNP\",\n",
    "                           \"UNITÉ DE MESURE\":'Unite de mesure',\"VALEUR\":'Valeur'},inplace=True)"
   ]
  },
  {
   "cell_type": "markdown",
   "id": "bbe1fe84",
   "metadata": {},
   "source": [
    "#### Pivoter unite de mesure"
   ]
  },
  {
   "cell_type": "code",
   "execution_count": null,
   "id": "a6f00993",
   "metadata": {},
   "outputs": [],
   "source": [
    "table = pd.pivot_table(dureemploi_mois_CNP, values='Valeur', index=['Annee/Mois', 'Regions','CNP','Sexe',\"Durée de l'emploi\"],\n",
    "                    columns=['Unite de mesure'], aggfunc=np.sum) "
   ]
  },
  {
   "cell_type": "code",
   "execution_count": null,
   "id": "f625351d",
   "metadata": {},
   "outputs": [],
   "source": [
    "dureemploi_mois_CNP = table.reset_index()"
   ]
  },
  {
   "cell_type": "code",
   "execution_count": null,
   "id": "c9125d83",
   "metadata": {},
   "outputs": [],
   "source": [
    "dureemploi_mois_CNP.columns"
   ]
  },
  {
   "cell_type": "code",
   "execution_count": null,
   "id": "7c8ebfdd",
   "metadata": {},
   "outputs": [],
   "source": [
    "dureemploi_mois_CNP.shape"
   ]
  },
  {
   "cell_type": "markdown",
   "id": "a150f3a9",
   "metadata": {},
   "source": [
    "#### Export to csv"
   ]
  },
  {
   "cell_type": "code",
   "execution_count": null,
   "id": "1cef40ee",
   "metadata": {},
   "outputs": [],
   "source": [
    "dureemploi_mois_CNP.to_csv(cwd+\"/duree_emploi_CNP\", index = False)"
   ]
  },
  {
   "cell_type": "markdown",
   "id": "8c89ddcc",
   "metadata": {},
   "source": [
    "### BD3: Postes vacants et moyenne du salaire horaire offert selon la profession (grande catégorie professionnelle), données trimestrielles non désaisonnalisées"
   ]
  },
  {
   "cell_type": "markdown",
   "id": "5311691f",
   "metadata": {},
   "source": [
    "#### Select les variables significatives"
   ]
  },
  {
   "cell_type": "code",
   "execution_count": null,
   "id": "3b4feca0",
   "metadata": {},
   "outputs": [],
   "source": [
    "postes_trim_CNP=postes_trim_CNP.drop(labels=[\"DGUID\",\"IDENTIFICATEUR D'UNITÉ DE MESURE\",\n",
    "       \"FACTEUR SCALAIRE\", \"IDENTIFICATEUR SCALAIRE\", \"VECTEUR\", \"COORDONNÉES\",\"STATUS\",\n",
    "        \"SYMBOLE\", \"TERMINÉ\", \"DÉCIMALES\"],axis=1)"
   ]
  },
  {
   "cell_type": "markdown",
   "id": "35ce20c7",
   "metadata": {},
   "source": [
    "#### Rennomer les variables"
   ]
  },
  {
   "cell_type": "code",
   "execution_count": null,
   "id": "3190f68f",
   "metadata": {},
   "outputs": [],
   "source": [
    "postes_trim_CNP.rename(columns={\"PÉRIODE DE RÉFÉRENCE\": \"Annee/Trim\", \"GÉO\": \"Regions\",\n",
    "                           \"Classification nationale des professions\":\"CNP\",\n",
    "                           \"UNITÉ DE MESURE\":'Unite de mesure',\"VALEUR\":'Valeur'},inplace=True)"
   ]
  },
  {
   "cell_type": "markdown",
   "id": "b49c384f",
   "metadata": {},
   "source": [
    "#### Pivoter"
   ]
  },
  {
   "cell_type": "code",
   "execution_count": null,
   "id": "20ff6a06",
   "metadata": {},
   "outputs": [],
   "source": [
    "table = pd.pivot_table(postes_trim_CNP, values='Valeur', index=['Annee/Trim', 'Regions','CNP'],\n",
    "                    columns=['Statistiques'], aggfunc=np.sum) "
   ]
  },
  {
   "cell_type": "code",
   "execution_count": null,
   "id": "f62caaf2",
   "metadata": {},
   "outputs": [],
   "source": [
    "postes_trim_CNP = table.reset_index()"
   ]
  },
  {
   "cell_type": "code",
   "execution_count": null,
   "id": "a54acb85",
   "metadata": {},
   "outputs": [],
   "source": [
    "postes_trim_CNP.columns"
   ]
  },
  {
   "cell_type": "code",
   "execution_count": null,
   "id": "0d99976c",
   "metadata": {},
   "outputs": [],
   "source": [
    "postes_trim_CNP.shape"
   ]
  },
  {
   "cell_type": "markdown",
   "id": "2a6a85de",
   "metadata": {},
   "source": [
    "#### Export to csv"
   ]
  },
  {
   "cell_type": "code",
   "execution_count": null,
   "id": "8dbb2200",
   "metadata": {},
   "outputs": [],
   "source": [
    "postes_trim_CNP.to_csv(cwd+\"/postes_vacants_CNP\", index = False)"
   ]
  },
  {
   "cell_type": "markdown",
   "id": "96f1af9c",
   "metadata": {},
   "source": [
    "### BD4 : Caractéristiques de la population active selon la profession, données mensuelles non désaisonnalisées"
   ]
  },
  {
   "cell_type": "markdown",
   "id": "d2d1ff97",
   "metadata": {},
   "source": [
    "#### Select les variables significatives"
   ]
  },
  {
   "cell_type": "code",
   "execution_count": null,
   "id": "fb16e6b1",
   "metadata": {},
   "outputs": [],
   "source": [
    "caract_population_active=caract_population_active.drop(labels=[\"DGUID\",\"IDENTIFICATEUR D'UNITÉ DE MESURE\",\n",
    "       \"FACTEUR SCALAIRE\", \"IDENTIFICATEUR SCALAIRE\", \"VECTEUR\", \"COORDONNÉES\",\"STATUS\",\n",
    "        \"SYMBOLE\", \"TERMINÉ\", \"DÉCIMALES\"],axis=1)"
   ]
  },
  {
   "cell_type": "markdown",
   "id": "fc91c4ed",
   "metadata": {},
   "source": [
    "#### Rennomer les variables"
   ]
  },
  {
   "cell_type": "code",
   "execution_count": null,
   "id": "176c257f",
   "metadata": {},
   "outputs": [],
   "source": [
    "caract_population_active.rename(columns={\"PÉRIODE DE RÉFÉRENCE\": \"Annee/Mois\", \"GÉO\": \"Regions\",\n",
    "                           \"Classification nationale des professions (CNP)\":\"CNP\",\n",
    "                           \"UNITÉ DE MESURE\":'Unite de mesure',\"VALEUR\":'Valeur'},inplace=True)"
   ]
  },
  {
   "cell_type": "markdown",
   "id": "0c67adfe",
   "metadata": {},
   "source": [
    "#### Pivoter"
   ]
  },
  {
   "cell_type": "code",
   "execution_count": null,
   "id": "a4c13210",
   "metadata": {},
   "outputs": [],
   "source": [
    "table = pd.pivot_table(caract_population_active, values='Valeur', index=['Annee/Mois', 'Regions','CNP','Sexe'],\n",
    "                    columns=['Caractéristiques de la population active'], aggfunc=np.sum) "
   ]
  },
  {
   "cell_type": "code",
   "execution_count": null,
   "id": "c7e32005",
   "metadata": {},
   "outputs": [],
   "source": [
    "caract_population_active=table.reset_index()"
   ]
  },
  {
   "cell_type": "code",
   "execution_count": null,
   "id": "11503e09",
   "metadata": {},
   "outputs": [],
   "source": [
    "caract_population_active.columns\n"
   ]
  },
  {
   "cell_type": "code",
   "execution_count": null,
   "id": "8becd469",
   "metadata": {},
   "outputs": [],
   "source": [
    "caract_population_active.shape"
   ]
  },
  {
   "cell_type": "markdown",
   "id": "517611a2",
   "metadata": {},
   "source": [
    "#### Export to csv"
   ]
  },
  {
   "cell_type": "code",
   "execution_count": null,
   "id": "ed9aa8a5",
   "metadata": {},
   "outputs": [],
   "source": [
    "caract_population_active.to_csv(cwd+\"/caractéristiques_population_active\", index = False)"
   ]
  },
  {
   "cell_type": "markdown",
   "id": "3cf53279",
   "metadata": {},
   "source": [
    "### BD5: Heures habituellement travaillées selon la profession, données mensuelles non désaisonnalisées"
   ]
  },
  {
   "cell_type": "markdown",
   "id": "65518c7d",
   "metadata": {},
   "source": [
    "#### Select les variables significatives"
   ]
  },
  {
   "cell_type": "code",
   "execution_count": null,
   "id": "88e5bedd",
   "metadata": {},
   "outputs": [],
   "source": [
    "heures_habituellement_travaille=heures_habituellement_travaille.drop(labels=[\"DGUID\",\"IDENTIFICATEUR D'UNITÉ DE MESURE\",\n",
    "       \"FACTEUR SCALAIRE\", \"IDENTIFICATEUR SCALAIRE\", \"VECTEUR\", \"COORDONNÉES\",\"STATUS\",\n",
    "        \"SYMBOLE\", \"TERMINÉ\", \"DÉCIMALES\"],axis=1)"
   ]
  },
  {
   "cell_type": "markdown",
   "id": "4da27341",
   "metadata": {},
   "source": [
    "#### Rennomer les variables"
   ]
  },
  {
   "cell_type": "code",
   "execution_count": null,
   "id": "41841e44",
   "metadata": {},
   "outputs": [],
   "source": [
    "heures_habituellement_travaille.rename(columns={\"PÉRIODE DE RÉFÉRENCE\": \"Annee/Mois\", \"GÉO\": \"Regions\",\n",
    "                           \"Classification nationale des professions (CNP)\":\"CNP\",\n",
    "                           \"UNITÉ DE MESURE\":'Unite de mesure',\"VALEUR\":'Valeur'},inplace=True)"
   ]
  },
  {
   "cell_type": "markdown",
   "id": "c5b8377d",
   "metadata": {},
   "source": [
    "#### Pivoter"
   ]
  },
  {
   "cell_type": "code",
   "execution_count": null,
   "id": "1b2e5b3b",
   "metadata": {},
   "outputs": [],
   "source": [
    "heures_habituellement_travaille.columns"
   ]
  },
  {
   "cell_type": "code",
   "execution_count": null,
   "id": "383688c4",
   "metadata": {},
   "outputs": [],
   "source": [
    "table = pd.pivot_table(heures_habituellement_travaille, \n",
    "                       values='Valeur', \n",
    "                       index=['Annee/Mois', 'Regions', 'CNP','Sexe'],\n",
    "                       columns=['Heures habituellement travaillées','Unite de mesure'], \n",
    "                       aggfunc=np.sum) "
   ]
  },
  {
   "cell_type": "code",
   "execution_count": null,
   "id": "27ebff56",
   "metadata": {},
   "outputs": [],
   "source": [
    "heures_habituellement_travaille=table.reset_index()"
   ]
  },
  {
   "cell_type": "code",
   "execution_count": null,
   "id": "8c95986a",
   "metadata": {},
   "outputs": [],
   "source": [
    "#heures_habituellement_travaille[\"Régions\"].value_counts()"
   ]
  },
  {
   "cell_type": "code",
   "execution_count": null,
   "id": "2da2b423",
   "metadata": {},
   "outputs": [],
   "source": [
    "#filtre =(heures_habituellement_travaille[\"Régions\"]=='Québec')&(heures_habituellement_travaille[\"Année/Mois\"]=='2022-09')\n",
    "#heures_habituellement_travaille[filtre]"
   ]
  },
  {
   "cell_type": "code",
   "execution_count": null,
   "id": "7f0e5fec",
   "metadata": {},
   "outputs": [],
   "source": [
    "heures_habituellement_travaille.shape"
   ]
  },
  {
   "cell_type": "markdown",
   "id": "e48ddab1",
   "metadata": {},
   "source": [
    "#### Export to csv"
   ]
  },
  {
   "cell_type": "code",
   "execution_count": null,
   "id": "d234168f",
   "metadata": {},
   "outputs": [],
   "source": [
    "heures_habituellement_travaille.to_csv(cwd+\"/heures_habituellement_travaille\", index = False)"
   ]
  },
  {
   "cell_type": "markdown",
   "id": "5e29e935",
   "metadata": {},
   "source": [
    "### BD6:Heures effectivement travaillées selon la profession, données mensuelles non désaisonnalisées"
   ]
  },
  {
   "cell_type": "markdown",
   "id": "5c56c67b",
   "metadata": {},
   "source": [
    "#### Select les variables significatives"
   ]
  },
  {
   "cell_type": "code",
   "execution_count": null,
   "id": "c542e208",
   "metadata": {},
   "outputs": [],
   "source": [
    "heures_effectivement_travaille=heures_effectivement_travaille.drop(labels=[\"DGUID\",\"IDENTIFICATEUR D'UNITÉ DE MESURE\",\n",
    "       \"FACTEUR SCALAIRE\", \"IDENTIFICATEUR SCALAIRE\", \"VECTEUR\", \"COORDONNÉES\",\"STATUS\",\n",
    "        \"SYMBOLE\", \"TERMINÉ\", \"DÉCIMALES\"],axis=1)"
   ]
  },
  {
   "cell_type": "markdown",
   "id": "8f8cb3db",
   "metadata": {},
   "source": [
    "#### Renommer les variables"
   ]
  },
  {
   "cell_type": "code",
   "execution_count": null,
   "id": "fdf8ff61",
   "metadata": {},
   "outputs": [],
   "source": [
    "heures_effectivement_travaille.rename(columns={\"PÉRIODE DE RÉFÉRENCE\": \"Annee/Mois\", \"GÉO\": \"Regions\",\n",
    "                           \"Classification nationale des professions (CNP)\":\"CNP\",\n",
    "                           \"UNITÉ DE MESURE\":'Unite de mesure',\"VALEUR\":'Valeur'},inplace=True)"
   ]
  },
  {
   "cell_type": "markdown",
   "id": "601efc1c",
   "metadata": {},
   "source": [
    "#### Pivoter"
   ]
  },
  {
   "cell_type": "code",
   "execution_count": null,
   "id": "16756be2",
   "metadata": {},
   "outputs": [],
   "source": [
    "table = pd.pivot_table(heures_effectivement_travaille, \n",
    "                       values='Valeur', \n",
    "                       index=['Annee/Mois', 'Regions', 'CNP','Sexe'],\n",
    "                       columns=['Heures effectivement travaillées','Unite de mesure'], \n",
    "                       aggfunc=np.sum) "
   ]
  },
  {
   "cell_type": "code",
   "execution_count": null,
   "id": "f3bba140",
   "metadata": {},
   "outputs": [],
   "source": [
    "heures_effectivement_travaille=table.reset_index()"
   ]
  },
  {
   "cell_type": "code",
   "execution_count": null,
   "id": "71ddf0ab",
   "metadata": {},
   "outputs": [],
   "source": [
    "heures_effectivement_travaille.shape"
   ]
  },
  {
   "cell_type": "markdown",
   "id": "964717b9",
   "metadata": {},
   "source": [
    "#### Export to csv"
   ]
  },
  {
   "cell_type": "code",
   "execution_count": null,
   "id": "a971dfc5",
   "metadata": {},
   "outputs": [],
   "source": [
    "heures_effectivement_travaille.to_csv(cwd+\"/heures_effectivement_travaille\", index = False)"
   ]
  },
  {
   "cell_type": "markdown",
   "id": "7865b3e5",
   "metadata": {},
   "source": [
    "### BD7:Personnes ayant plus d'un emploi selon la profession, données mensuelles non désaisonnalisées "
   ]
  },
  {
   "cell_type": "markdown",
   "id": "2592bcb0",
   "metadata": {},
   "source": [
    "#### Select les variables significatives"
   ]
  },
  {
   "cell_type": "code",
   "execution_count": null,
   "id": "fcb1ef63",
   "metadata": {},
   "outputs": [],
   "source": [
    "plus_un_emploi=plus_un_emploi.drop(labels=[\"DGUID\",\"IDENTIFICATEUR D'UNITÉ DE MESURE\",\n",
    "       \"FACTEUR SCALAIRE\", \"IDENTIFICATEUR SCALAIRE\", \"VECTEUR\", \"COORDONNÉES\",\"STATUS\",\n",
    "        \"SYMBOLE\", \"TERMINÉ\", \"DÉCIMALES\"],axis=1)"
   ]
  },
  {
   "cell_type": "markdown",
   "id": "3c1b00b8",
   "metadata": {},
   "source": [
    "#### Renommer les variables"
   ]
  },
  {
   "cell_type": "code",
   "execution_count": null,
   "id": "837c5669",
   "metadata": {},
   "outputs": [],
   "source": [
    "plus_un_emploi.rename(columns={\"PÉRIODE DE RÉFÉRENCE\": \"Annee/Mois\", \"GÉO\": \"Regions\",\n",
    "                           \"Classification nationale des professions (CNP)\":\"CNP\",\n",
    "                           \"UNITÉ DE MESURE\":'Unite de mesure',\"VALEUR\":'Valeur'},inplace=True)"
   ]
  },
  {
   "cell_type": "markdown",
   "id": "3c921921",
   "metadata": {},
   "source": [
    "#### Pivoter"
   ]
  },
  {
   "cell_type": "markdown",
   "id": "3eb16dd1",
   "metadata": {},
   "source": [
    "#### Export to csv"
   ]
  },
  {
   "cell_type": "code",
   "execution_count": null,
   "id": "2039ac00",
   "metadata": {},
   "outputs": [],
   "source": [
    "plus_un_emploi.to_csv(cwd+\"/personnes_avec_plus_un_emploi\", index = False)"
   ]
  },
  {
   "cell_type": "markdown",
   "id": "4706170b",
   "metadata": {},
   "source": [
    "### BD8:Raison pour avoir quitté l'emploi durant l'année précédente, données mensuelles non désaisonnalisées"
   ]
  },
  {
   "cell_type": "markdown",
   "id": "d657688e",
   "metadata": {},
   "source": [
    "#### Select les variables significatives"
   ]
  },
  {
   "cell_type": "code",
   "execution_count": null,
   "id": "194e23bf",
   "metadata": {},
   "outputs": [],
   "source": [
    "raison_quitter_emploi.columns"
   ]
  },
  {
   "cell_type": "code",
   "execution_count": null,
   "id": "bec322d4",
   "metadata": {},
   "outputs": [],
   "source": [
    "raison_quitter_emploi=raison_quitter_emploi.drop(labels=[\"DGUID\",\"IDENTIFICATEUR D'UNITÉ DE MESURE\",\n",
    "       \"FACTEUR SCALAIRE\", \"IDENTIFICATEUR SCALAIRE\", \"VECTEUR\", \"COORDONNÉES\",\"STATUS\",\n",
    "        \"SYMBOLE\", \"TERMINÉ\", \"DÉCIMALES\"],axis=1)"
   ]
  },
  {
   "cell_type": "markdown",
   "id": "35b2f978",
   "metadata": {},
   "source": [
    "#### Renommer les variables"
   ]
  },
  {
   "cell_type": "code",
   "execution_count": null,
   "id": "c528c279",
   "metadata": {},
   "outputs": [],
   "source": [
    "raison_quitter_emploi.rename(columns={\"Année/Mois\": \"Annee/Mois\", \"Régions\": \"Regions\",\n",
    "                                     \"UNITÉ DE MESURE\":'Unite de mesure',\"VALEUR\":'Valeur'},inplace=True)"
   ]
  },
  {
   "cell_type": "markdown",
   "id": "fe447999",
   "metadata": {},
   "source": [
    "#### Pivot"
   ]
  },
  {
   "cell_type": "code",
   "execution_count": null,
   "id": "4c6cebf0",
   "metadata": {},
   "outputs": [],
   "source": [
    "table = pd.pivot_table(raison_quitter_emploi, \n",
    "                       values='Valeur', \n",
    "                       index=['Annee/Mois', 'Regions','Sexe','Raison',\"Groupe d'âge\"],\n",
    "                       columns=['Caractéristique'], \n",
    "                       aggfunc=np.sum) "
   ]
  },
  {
   "cell_type": "code",
   "execution_count": null,
   "id": "95cab5f9",
   "metadata": {},
   "outputs": [],
   "source": [
    "raison_quitter_emploi=table.reset_index()"
   ]
  },
  {
   "cell_type": "markdown",
   "id": "09d6504b",
   "metadata": {},
   "source": [
    "#### Export csv"
   ]
  },
  {
   "cell_type": "code",
   "execution_count": null,
   "id": "f492cf83",
   "metadata": {},
   "outputs": [],
   "source": [
    "raison_quitter_emploi.to_csv(cwd+\"/raison_quitter_emploi\", index = False)"
   ]
  },
  {
   "cell_type": "markdown",
   "id": "c407c5f4",
   "metadata": {},
   "source": [
    "### BD9: Absence du travail chez les employés à temps plein, données annuelles"
   ]
  },
  {
   "cell_type": "markdown",
   "id": "9fc0d782",
   "metadata": {},
   "source": [
    "#### Select les variables significative"
   ]
  },
  {
   "cell_type": "code",
   "execution_count": null,
   "id": "2aeab71f",
   "metadata": {},
   "outputs": [],
   "source": [
    "absence_travail_temps_plein=absence_travail_temps_plein.drop(labels=[\"DGUID\",\"IDENTIFICATEUR D'UNITÉ DE MESURE\",\n",
    "       \"FACTEUR SCALAIRE\", \"IDENTIFICATEUR SCALAIRE\", \"VECTEUR\", \"COORDONNÉES\",\"STATUS\",\n",
    "        \"SYMBOLE\", \"TERMINÉ\", \"DÉCIMALES\"],axis=1)"
   ]
  },
  {
   "cell_type": "code",
   "execution_count": null,
   "id": "cdd09022",
   "metadata": {},
   "outputs": [],
   "source": [
    "absence_travail_temps_plein.columns"
   ]
  },
  {
   "cell_type": "markdown",
   "id": "fbe7ec58",
   "metadata": {},
   "source": [
    "#### Renommer les variables"
   ]
  },
  {
   "cell_type": "code",
   "execution_count": null,
   "id": "d003e3d9",
   "metadata": {},
   "outputs": [],
   "source": [
    "absence_travail_temps_plein.rename(columns={\"PÉRIODE DE RÉFÉRENCE\": \"Annee\", \"GÉO\": \"Regions\",\n",
    "                                     \"UNITÉ DE MESURE\":'Unite de mesure',\"VALEUR\":'Valeur'},inplace=True)"
   ]
  },
  {
   "cell_type": "markdown",
   "id": "f9415df5",
   "metadata": {},
   "source": [
    "#### Pivot"
   ]
  },
  {
   "cell_type": "code",
   "execution_count": null,
   "id": "b09d33b2",
   "metadata": {},
   "outputs": [],
   "source": [
    "table = pd.pivot_table(absence_travail_temps_plein, \n",
    "                       values='Valeur', \n",
    "                       index=['Annee', 'Regions','Sexe'],\n",
    "                       columns=[\"Statistiques d'absence du travail\",\"Unite de mesure\"], \n",
    "                       aggfunc=np.sum) "
   ]
  },
  {
   "cell_type": "code",
   "execution_count": null,
   "id": "3a6ff6e3",
   "metadata": {},
   "outputs": [],
   "source": [
    "absence_travail_temps_plein=table.reset_index()"
   ]
  },
  {
   "cell_type": "markdown",
   "id": "a896ef7a",
   "metadata": {},
   "source": [
    "#### Export csv"
   ]
  },
  {
   "cell_type": "code",
   "execution_count": null,
   "id": "f265bdea",
   "metadata": {},
   "outputs": [],
   "source": [
    "absence_travail_temps_plein.to_csv(cwd+\"/absence_travail_temps_plein\", index = False)"
   ]
  }
 ],
 "metadata": {
  "kernelspec": {
   "display_name": "Python 3.9.15 ('salaire')",
   "language": "python",
   "name": "python3"
  },
  "language_info": {
   "codemirror_mode": {
    "name": "ipython",
    "version": 3
   },
   "file_extension": ".py",
   "mimetype": "text/x-python",
   "name": "python",
   "nbconvert_exporter": "python",
   "pygments_lexer": "ipython3",
   "version": "3.9.15 (main, Nov 24 2022, 14:39:17) [MSC v.1916 64 bit (AMD64)]"
  },
  "toc": {
   "base_numbering": 1,
   "nav_menu": {},
   "number_sections": true,
   "sideBar": true,
   "skip_h1_title": false,
   "title_cell": "Table of Contents",
   "title_sidebar": "Contents",
   "toc_cell": false,
   "toc_position": {
    "height": "calc(100% - 180px)",
    "left": "10px",
    "top": "150px",
    "width": "239.716px"
   },
   "toc_section_display": true,
   "toc_window_display": true
  },
  "vscode": {
   "interpreter": {
    "hash": "7c417dc2ff95ffd7c229b200ab6cbf822937ca89359d43f1e9b6f8dfddee6e08"
   }
  }
 },
 "nbformat": 4,
 "nbformat_minor": 5
}
