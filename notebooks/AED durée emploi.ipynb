{
 "cells": [
  {
   "cell_type": "markdown",
   "id": "9378a572",
   "metadata": {},
   "source": [
    "# Informations sur la base de données.\n",
    "\n",
    "#### Buts de l'analyse\n",
    "\n",
    "#### Étapes de traitement des données"
   ]
  },
  {
   "cell_type": "markdown",
   "id": "9041bf2f",
   "metadata": {},
   "source": [
    "#### Importation des librairies utilisées."
   ]
  },
  {
   "cell_type": "code",
   "execution_count": 1,
   "id": "95e142e9",
   "metadata": {},
   "outputs": [],
   "source": [
    "import os\n",
    "\n",
    "import sklearn\n",
    "from sklearn.model_selection import train_test_split\n",
    "\n",
    "from sklearn.preprocessing import StandardScaler\n",
    "import numpy as np\n",
    "import pandas as pd\n",
    "import matplotlib.pyplot as plt\n",
    "import seaborn as sns\n",
    "sns.set(color_codes=True)\n",
    "\n",
    "import scipy.stats as stats\n",
    "\n",
    "%matplotlib inline\n",
    "os.environ['KMP_DUPLICATE_LIB_OK']='True'\n",
    "# Pour la reproductibilité des résultats\n",
    "np.random.seed(43)\n",
    "\n",
    "import warnings\n",
    "warnings.simplefilter(action='ignore', category=FutureWarning)\n",
    "warnings.filterwarnings('ignore', '.*do not.*', )\n",
    "warnings.warn('Do not show this message')\n",
    "\n",
    "# some nice colors from http://colorbrewer2.org/\n",
    "COLOR1 = '#7fc97f'\n",
    "COLOR2 = '#beaed4'\n",
    "COLOR3 = '#fdc086'\n",
    "COLOR4 = '#ffff99'\n",
    "COLOR5 = '#386cb0'\n",
    "\n",
    "sns.set(rc={'figure.figsize':(9, 4)})\n",
    "sns.set_theme(context=\"notebook\", style=\"white\", palette=\"Set2\")"
   ]
  },
  {
   "cell_type": "markdown",
   "id": "ca7a8161",
   "metadata": {},
   "source": [
    "## Recommandations \n",
    "\n",
    "### Analyse des forme\n",
    "\n",
    "\n",
    "* **Ligne et colonne: (6498063, 7)**\n",
    "\n",
    "niveau de detail, une ligne par :\n",
    "                  Géographie, \n",
    "                  Classification nationale des professions(CNP4),\n",
    "                  Sexe,\n",
    "                  Durée de l'emploi,\t\n",
    "                  Période de référence, mensuelle\n",
    "\n",
    "* **Type de variables: 2 variables de type numérique et 5 variables qualitative.**\n",
    "\n",
    "    * Géographie : Canada, Province ou territoire\n",
    "    * Classification nationale des professions(CNP4)\n",
    "    * Sexe\n",
    "    * Mois: nombre moyenne de la durée d'emploi\n",
    "    * Personnes : le nombre des personnes \n",
    "    * Période de référence : mensuelle\n",
    "\n",
    "La repartition des individus est egale pour toutes les modalites des variables Sexe, CNP, Géographie,.Périoade de référence \n",
    "\n",
    "* La variable Regions contient 11 modalites\n",
    "* La variable CNP contient 51 modalites\n",
    "* La variable Sexe contienttient 3 modaliteses\n",
    "* La variable Durée de l'emploi contient 9 modalites\n",
    "* La variable Année/Mois contient 429 modalites\n",
    "\n",
    "\n",
    "    \n",
    "* **Valeurs extremes **\n",
    "\n",
    "On va supposer, pour l'exemple, que la base de données contient 0,5% de valeurs aberrantes de toutes sortes. Ce n'est pas exagéré. Cela représente $0,005*168300 \\approx 841$ valeurs.\n",
    "\n",
    "On utilise la méthode de la [forêt d'isolation](https://scikit-learn.org/stable/modules/generated/sklearn.ensemble.IsolationForest.html) pour détecter et éliminer un maximum de 0,5% des valeurs possiblement aberrantes.  \n",
    "    \n",
    "### Analyse de structure\n",
    "\n",
    "* Conserver seulement les variables :  \n",
    "    * Géographie : Canada, Province ou territoire,\n",
    "    * Classification nationale des professions(CNP4)\n",
    "    * Sexe\n",
    "    * Personnes\n",
    "    * Duree moyenne d'emploi\n",
    "    * Période de référence : annuelle\n",
    "\n",
    "\n",
    "### Nettoyage des donnees: Recommandations\n",
    "\n",
    "* Filtrer la modalite \"Les deux sexes\" de la variable **Sexe**\n",
    "* Filtrer la modalite \"'Canada'\" de la variable **Region**\n",
    "* Agreger l'information pour avoir une fréquence annuelle \n",
    "* Plage temporelle : 1997-2021\n",
    "\n"
   ]
  },
  {
   "cell_type": "markdown",
   "id": "2ebb6f94",
   "metadata": {},
   "source": [
    "# Partie I: Prétraitement des données.\n",
    "\n",
    "## Lecture des bases de données en format CSV.\n",
    "\n",
    "Les données sont écrites dans un DataFrame de la librairie Pandas."
   ]
  },
  {
   "cell_type": "code",
   "execution_count": 3,
   "id": "4705c6ca",
   "metadata": {},
   "outputs": [],
   "source": [
    "cwd=r\"D:\\Daiana\\Documents\\AEC Intelligence artificielle\\Mise en place d'un écosystème d'IA\\salary\\data\\interim\\duree_emploi_CNP\""
   ]
  },
  {
   "cell_type": "code",
   "execution_count": 4,
   "id": "db4e15f3",
   "metadata": {},
   "outputs": [],
   "source": [
    "def load_db():\n",
    "    duree_emploi_CNP=pd.read_csv(cwd,sep=\",\")\n",
    "    return duree_emploi_CNP#,postes_vacants_CNP,caractéristiques_population_active,heures_habituellement_travaille,heures_effectivement_travaille,personnes_avec_plus_un_emploi,raison_quitter_emploi,absence_travail_temps_plein"
   ]
  },
  {
   "cell_type": "code",
   "execution_count": 5,
   "id": "a9395687",
   "metadata": {},
   "outputs": [],
   "source": [
    "duree_emploi_CNP=load_db()"
   ]
  },
  {
   "cell_type": "markdown",
   "id": "788d0a01",
   "metadata": {},
   "source": [
    "## Explorer les données"
   ]
  },
  {
   "cell_type": "code",
   "execution_count": 6,
   "id": "0c778a54",
   "metadata": {},
   "outputs": [
    {
     "data": {
      "text/html": [
       "<div>\n",
       "<style scoped>\n",
       "    .dataframe tbody tr th:only-of-type {\n",
       "        vertical-align: middle;\n",
       "    }\n",
       "\n",
       "    .dataframe tbody tr th {\n",
       "        vertical-align: top;\n",
       "    }\n",
       "\n",
       "    .dataframe thead th {\n",
       "        text-align: right;\n",
       "    }\n",
       "</style>\n",
       "<table border=\"1\" class=\"dataframe\">\n",
       "  <thead>\n",
       "    <tr style=\"text-align: right;\">\n",
       "      <th></th>\n",
       "      <th>Annee/Mois</th>\n",
       "      <th>Regions</th>\n",
       "      <th>CNP</th>\n",
       "      <th>Sexe</th>\n",
       "      <th>Durée de l'emploi</th>\n",
       "      <th>Mois</th>\n",
       "      <th>Personnes</th>\n",
       "    </tr>\n",
       "  </thead>\n",
       "  <tbody>\n",
       "    <tr>\n",
       "      <th>0</th>\n",
       "      <td>1987-01</td>\n",
       "      <td>Alberta</td>\n",
       "      <td>Affaires, finance et administration [1]</td>\n",
       "      <td>Femmes</td>\n",
       "      <td>1 à 3 mois</td>\n",
       "      <td>NaN</td>\n",
       "      <td>14.1</td>\n",
       "    </tr>\n",
       "    <tr>\n",
       "      <th>1</th>\n",
       "      <td>1987-01</td>\n",
       "      <td>Alberta</td>\n",
       "      <td>Affaires, finance et administration [1]</td>\n",
       "      <td>Femmes</td>\n",
       "      <td>121 à 240 mois</td>\n",
       "      <td>NaN</td>\n",
       "      <td>19.7</td>\n",
       "    </tr>\n",
       "    <tr>\n",
       "      <th>2</th>\n",
       "      <td>1987-01</td>\n",
       "      <td>Alberta</td>\n",
       "      <td>Affaires, finance et administration [1]</td>\n",
       "      <td>Femmes</td>\n",
       "      <td>13 à 60 mois</td>\n",
       "      <td>NaN</td>\n",
       "      <td>53.4</td>\n",
       "    </tr>\n",
       "    <tr>\n",
       "      <th>3</th>\n",
       "      <td>1987-01</td>\n",
       "      <td>Alberta</td>\n",
       "      <td>Affaires, finance et administration [1]</td>\n",
       "      <td>Femmes</td>\n",
       "      <td>241 mois ou plus</td>\n",
       "      <td>NaN</td>\n",
       "      <td>7.1</td>\n",
       "    </tr>\n",
       "    <tr>\n",
       "      <th>4</th>\n",
       "      <td>1987-01</td>\n",
       "      <td>Alberta</td>\n",
       "      <td>Affaires, finance et administration [1]</td>\n",
       "      <td>Femmes</td>\n",
       "      <td>4 à 6 mois</td>\n",
       "      <td>NaN</td>\n",
       "      <td>12.4</td>\n",
       "    </tr>\n",
       "  </tbody>\n",
       "</table>\n",
       "</div>"
      ],
      "text/plain": [
       "  Annee/Mois  Regions                                      CNP    Sexe  \\\n",
       "0    1987-01  Alberta  Affaires, finance et administration [1]  Femmes   \n",
       "1    1987-01  Alberta  Affaires, finance et administration [1]  Femmes   \n",
       "2    1987-01  Alberta  Affaires, finance et administration [1]  Femmes   \n",
       "3    1987-01  Alberta  Affaires, finance et administration [1]  Femmes   \n",
       "4    1987-01  Alberta  Affaires, finance et administration [1]  Femmes   \n",
       "\n",
       "  Durée de l'emploi  Mois  Personnes  \n",
       "0        1 à 3 mois   NaN       14.1  \n",
       "1    121 à 240 mois   NaN       19.7  \n",
       "2      13 à 60 mois   NaN       53.4  \n",
       "3  241 mois ou plus   NaN        7.1  \n",
       "4        4 à 6 mois   NaN       12.4  "
      ]
     },
     "execution_count": 6,
     "metadata": {},
     "output_type": "execute_result"
    }
   ],
   "source": [
    "duree_emploi_CNP.head()"
   ]
  },
  {
   "cell_type": "code",
   "execution_count": 7,
   "id": "e21b4e5d",
   "metadata": {},
   "outputs": [
    {
     "data": {
      "text/html": [
       "<div>\n",
       "<style scoped>\n",
       "    .dataframe tbody tr th:only-of-type {\n",
       "        vertical-align: middle;\n",
       "    }\n",
       "\n",
       "    .dataframe tbody tr th {\n",
       "        vertical-align: top;\n",
       "    }\n",
       "\n",
       "    .dataframe thead th {\n",
       "        text-align: right;\n",
       "    }\n",
       "</style>\n",
       "<table border=\"1\" class=\"dataframe\">\n",
       "  <thead>\n",
       "    <tr style=\"text-align: right;\">\n",
       "      <th></th>\n",
       "      <th>Annee/Mois</th>\n",
       "      <th>Regions</th>\n",
       "      <th>CNP</th>\n",
       "      <th>Sexe</th>\n",
       "      <th>Durée de l'emploi</th>\n",
       "      <th>Mois</th>\n",
       "      <th>Personnes</th>\n",
       "    </tr>\n",
       "  </thead>\n",
       "  <tbody>\n",
       "    <tr>\n",
       "      <th>6498058</th>\n",
       "      <td>2022-09</td>\n",
       "      <td>Île-du-Prince-Édouard</td>\n",
       "      <td>Vente et services [6]</td>\n",
       "      <td>Les deux sexes</td>\n",
       "      <td>4 à 6 mois</td>\n",
       "      <td>NaN</td>\n",
       "      <td>2.9</td>\n",
       "    </tr>\n",
       "    <tr>\n",
       "      <th>6498059</th>\n",
       "      <td>2022-09</td>\n",
       "      <td>Île-du-Prince-Édouard</td>\n",
       "      <td>Vente et services [6]</td>\n",
       "      <td>Les deux sexes</td>\n",
       "      <td>61 à 120 mois</td>\n",
       "      <td>NaN</td>\n",
       "      <td>1.8</td>\n",
       "    </tr>\n",
       "    <tr>\n",
       "      <th>6498060</th>\n",
       "      <td>2022-09</td>\n",
       "      <td>Île-du-Prince-Édouard</td>\n",
       "      <td>Vente et services [6]</td>\n",
       "      <td>Les deux sexes</td>\n",
       "      <td>7 à 12 mois</td>\n",
       "      <td>NaN</td>\n",
       "      <td>1.6</td>\n",
       "    </tr>\n",
       "    <tr>\n",
       "      <th>6498061</th>\n",
       "      <td>2022-09</td>\n",
       "      <td>Île-du-Prince-Édouard</td>\n",
       "      <td>Vente et services [6]</td>\n",
       "      <td>Les deux sexes</td>\n",
       "      <td>Durée moyenne</td>\n",
       "      <td>83.8</td>\n",
       "      <td>NaN</td>\n",
       "    </tr>\n",
       "    <tr>\n",
       "      <th>6498062</th>\n",
       "      <td>2022-09</td>\n",
       "      <td>Île-du-Prince-Édouard</td>\n",
       "      <td>Vente et services [6]</td>\n",
       "      <td>Les deux sexes</td>\n",
       "      <td>Emploi total, tous les mois</td>\n",
       "      <td>NaN</td>\n",
       "      <td>16.5</td>\n",
       "    </tr>\n",
       "  </tbody>\n",
       "</table>\n",
       "</div>"
      ],
      "text/plain": [
       "        Annee/Mois                Regions                    CNP  \\\n",
       "6498058    2022-09  Île-du-Prince-Édouard  Vente et services [6]   \n",
       "6498059    2022-09  Île-du-Prince-Édouard  Vente et services [6]   \n",
       "6498060    2022-09  Île-du-Prince-Édouard  Vente et services [6]   \n",
       "6498061    2022-09  Île-du-Prince-Édouard  Vente et services [6]   \n",
       "6498062    2022-09  Île-du-Prince-Édouard  Vente et services [6]   \n",
       "\n",
       "                   Sexe            Durée de l'emploi  Mois  Personnes  \n",
       "6498058  Les deux sexes                   4 à 6 mois   NaN        2.9  \n",
       "6498059  Les deux sexes                61 à 120 mois   NaN        1.8  \n",
       "6498060  Les deux sexes                  7 à 12 mois   NaN        1.6  \n",
       "6498061  Les deux sexes                Durée moyenne  83.8        NaN  \n",
       "6498062  Les deux sexes  Emploi total, tous les mois   NaN       16.5  "
      ]
     },
     "execution_count": 7,
     "metadata": {},
     "output_type": "execute_result"
    }
   ],
   "source": [
    "duree_emploi_CNP.tail()"
   ]
  },
  {
   "cell_type": "markdown",
   "id": "c0941eb5",
   "metadata": {},
   "source": [
    "### Dimensions du dataset"
   ]
  },
  {
   "cell_type": "code",
   "execution_count": 8,
   "id": "e5487147",
   "metadata": {},
   "outputs": [
    {
     "name": "stdout",
     "output_type": "stream",
     "text": [
      "Les dimensions du jeux des donnees:  (6498063, 7)\n",
      "\n"
     ]
    }
   ],
   "source": [
    "print(\"Les dimensions du jeux des donnees: \", duree_emploi_CNP.shape)\n",
    "print() "
   ]
  },
  {
   "cell_type": "code",
   "execution_count": 9,
   "id": "66af9abb",
   "metadata": {},
   "outputs": [
    {
     "name": "stdout",
     "output_type": "stream",
     "text": [
      "Nombre d’éléments: 45486441\n",
      "\n"
     ]
    }
   ],
   "source": [
    "# Size of our data set\n",
    "## le nombre de lignes multiplié par le nombre de colonnes si DataFrame.\n",
    "print(\"Nombre d’éléments:\", duree_emploi_CNP.size)\n",
    "print()"
   ]
  },
  {
   "cell_type": "markdown",
   "id": "3d841b22",
   "metadata": {},
   "source": [
    "Le nombre d'individus est égale à 6498063 et le nombre de descripteurs est égale à 7"
   ]
  },
  {
   "cell_type": "markdown",
   "id": "67f90838",
   "metadata": {},
   "source": [
    "### Type des donnees"
   ]
  },
  {
   "cell_type": "code",
   "execution_count": 10,
   "id": "6974a10d",
   "metadata": {},
   "outputs": [
    {
     "data": {
      "text/plain": [
       "Annee/Mois            object\n",
       "Regions               object\n",
       "CNP                   object\n",
       "Sexe                  object\n",
       "Durée de l'emploi     object\n",
       "Mois                 float64\n",
       "Personnes            float64\n",
       "dtype: object"
      ]
     },
     "execution_count": 10,
     "metadata": {},
     "output_type": "execute_result"
    }
   ],
   "source": [
    "duree_emploi_CNP.dtypes"
   ]
  },
  {
   "cell_type": "code",
   "execution_count": 11,
   "id": "ec9d8287",
   "metadata": {},
   "outputs": [
    {
     "data": {
      "text/plain": [
       "object     5\n",
       "float64    2\n",
       "dtype: int64"
      ]
     },
     "execution_count": 11,
     "metadata": {},
     "output_type": "execute_result"
    }
   ],
   "source": [
    "duree_emploi_CNP.dtypes.value_counts()"
   ]
  },
  {
   "cell_type": "markdown",
   "id": "c62b6977",
   "metadata": {},
   "source": [
    "Le jeu des données a 2 variables de type numérique et 5 variables qualitative."
   ]
  },
  {
   "cell_type": "code",
   "execution_count": 12,
   "id": "a4ab7d2b",
   "metadata": {},
   "outputs": [
    {
     "data": {
      "text/html": [
       "<div>\n",
       "<style scoped>\n",
       "    .dataframe tbody tr th:only-of-type {\n",
       "        vertical-align: middle;\n",
       "    }\n",
       "\n",
       "    .dataframe tbody tr th {\n",
       "        vertical-align: top;\n",
       "    }\n",
       "\n",
       "    .dataframe thead th {\n",
       "        text-align: right;\n",
       "    }\n",
       "</style>\n",
       "<table border=\"1\" class=\"dataframe\">\n",
       "  <thead>\n",
       "    <tr style=\"text-align: right;\">\n",
       "      <th></th>\n",
       "      <th>Mois</th>\n",
       "      <th>Personnes</th>\n",
       "    </tr>\n",
       "  </thead>\n",
       "  <tbody>\n",
       "    <tr>\n",
       "      <th>count</th>\n",
       "      <td>722007.000000</td>\n",
       "      <td>5.776056e+06</td>\n",
       "    </tr>\n",
       "    <tr>\n",
       "      <th>mean</th>\n",
       "      <td>95.811712</td>\n",
       "      <td>2.788090e+01</td>\n",
       "    </tr>\n",
       "    <tr>\n",
       "      <th>std</th>\n",
       "      <td>42.514423</td>\n",
       "      <td>2.198379e+02</td>\n",
       "    </tr>\n",
       "    <tr>\n",
       "      <th>min</th>\n",
       "      <td>0.000000</td>\n",
       "      <td>0.000000e+00</td>\n",
       "    </tr>\n",
       "    <tr>\n",
       "      <th>25%</th>\n",
       "      <td>70.100000</td>\n",
       "      <td>0.000000e+00</td>\n",
       "    </tr>\n",
       "    <tr>\n",
       "      <th>50%</th>\n",
       "      <td>95.500000</td>\n",
       "      <td>2.000000e+00</td>\n",
       "    </tr>\n",
       "    <tr>\n",
       "      <th>75%</th>\n",
       "      <td>119.500000</td>\n",
       "      <td>1.020000e+01</td>\n",
       "    </tr>\n",
       "    <tr>\n",
       "      <th>max</th>\n",
       "      <td>474.000000</td>\n",
       "      <td>1.996600e+04</td>\n",
       "    </tr>\n",
       "  </tbody>\n",
       "</table>\n",
       "</div>"
      ],
      "text/plain": [
       "                Mois     Personnes\n",
       "count  722007.000000  5.776056e+06\n",
       "mean       95.811712  2.788090e+01\n",
       "std        42.514423  2.198379e+02\n",
       "min         0.000000  0.000000e+00\n",
       "25%        70.100000  0.000000e+00\n",
       "50%        95.500000  2.000000e+00\n",
       "75%       119.500000  1.020000e+01\n",
       "max       474.000000  1.996600e+04"
      ]
     },
     "execution_count": 12,
     "metadata": {},
     "output_type": "execute_result"
    }
   ],
   "source": [
    "duree_emploi_CNP.describe()"
   ]
  },
  {
   "cell_type": "code",
   "execution_count": 13,
   "id": "9380200c",
   "metadata": {},
   "outputs": [
    {
     "name": "stdout",
     "output_type": "stream",
     "text": [
      "<class 'pandas.core.frame.DataFrame'>\n",
      "RangeIndex: 6498063 entries, 0 to 6498062\n",
      "Data columns (total 7 columns):\n",
      " #   Column             Dtype  \n",
      "---  ------             -----  \n",
      " 0   Annee/Mois         object \n",
      " 1   Regions            object \n",
      " 2   CNP                object \n",
      " 3   Sexe               object \n",
      " 4   Durée de l'emploi  object \n",
      " 5   Mois               float64\n",
      " 6   Personnes          float64\n",
      "dtypes: float64(2), object(5)\n",
      "memory usage: 347.0+ MB\n"
     ]
    }
   ],
   "source": [
    "duree_emploi_CNP.info()"
   ]
  },
  {
   "cell_type": "markdown",
   "id": "c0c84396",
   "metadata": {},
   "source": [
    "### Affichage du nombre de valeurs manquantes Nans dans le DataFrame."
   ]
  },
  {
   "cell_type": "code",
   "execution_count": 14,
   "id": "becf99d0",
   "metadata": {},
   "outputs": [
    {
     "data": {
      "text/plain": [
       "Annee/Mois                 0\n",
       "Regions                    0\n",
       "CNP                        0\n",
       "Sexe                       0\n",
       "Durée de l'emploi          0\n",
       "Mois                 5776056\n",
       "Personnes             722007\n",
       "dtype: int64"
      ]
     },
     "execution_count": 14,
     "metadata": {},
     "output_type": "execute_result"
    }
   ],
   "source": [
    "duree_emploi_CNP.isna().sum()"
   ]
  },
  {
   "cell_type": "code",
   "execution_count": 15,
   "id": "02abc5c8",
   "metadata": {},
   "outputs": [
    {
     "data": {
      "text/plain": [
       "Durée moyenne    722007\n",
       "Name: Durée de l'emploi, dtype: int64"
      ]
     },
     "execution_count": 15,
     "metadata": {},
     "output_type": "execute_result"
    }
   ],
   "source": [
    "duree_emploi_CNP[duree_emploi_CNP.Mois.notnull()][\"Durée de l'emploi\"].value_counts()"
   ]
  },
  {
   "cell_type": "code",
   "execution_count": 20,
   "id": "ffb0b14f",
   "metadata": {},
   "outputs": [
    {
     "data": {
      "text/html": [
       "<div>\n",
       "<style scoped>\n",
       "    .dataframe tbody tr th:only-of-type {\n",
       "        vertical-align: middle;\n",
       "    }\n",
       "\n",
       "    .dataframe tbody tr th {\n",
       "        vertical-align: top;\n",
       "    }\n",
       "\n",
       "    .dataframe thead th {\n",
       "        text-align: right;\n",
       "    }\n",
       "</style>\n",
       "<table border=\"1\" class=\"dataframe\">\n",
       "  <thead>\n",
       "    <tr style=\"text-align: right;\">\n",
       "      <th></th>\n",
       "      <th>Annee/Mois</th>\n",
       "      <th>Regions</th>\n",
       "      <th>CNP</th>\n",
       "      <th>Sexe</th>\n",
       "      <th>Durée de l'emploi</th>\n",
       "      <th>Mois</th>\n",
       "      <th>Personnes</th>\n",
       "    </tr>\n",
       "  </thead>\n",
       "  <tbody>\n",
       "    <tr>\n",
       "      <th>7</th>\n",
       "      <td>1987-01</td>\n",
       "      <td>Alberta</td>\n",
       "      <td>Affaires, finance et administration [1]</td>\n",
       "      <td>Femmes</td>\n",
       "      <td>Durée moyenne</td>\n",
       "      <td>66.4</td>\n",
       "      <td>NaN</td>\n",
       "    </tr>\n",
       "    <tr>\n",
       "      <th>16</th>\n",
       "      <td>1987-01</td>\n",
       "      <td>Alberta</td>\n",
       "      <td>Affaires, finance et administration [1]</td>\n",
       "      <td>Hommes</td>\n",
       "      <td>Durée moyenne</td>\n",
       "      <td>88.7</td>\n",
       "      <td>NaN</td>\n",
       "    </tr>\n",
       "    <tr>\n",
       "      <th>25</th>\n",
       "      <td>1987-01</td>\n",
       "      <td>Alberta</td>\n",
       "      <td>Affaires, finance et administration [1]</td>\n",
       "      <td>Les deux sexes</td>\n",
       "      <td>Durée moyenne</td>\n",
       "      <td>72.3</td>\n",
       "      <td>NaN</td>\n",
       "    </tr>\n",
       "    <tr>\n",
       "      <th>34</th>\n",
       "      <td>1987-01</td>\n",
       "      <td>Alberta</td>\n",
       "      <td>Arts, culture, sports et loisirs [5]</td>\n",
       "      <td>Femmes</td>\n",
       "      <td>Durée moyenne</td>\n",
       "      <td>42.6</td>\n",
       "      <td>NaN</td>\n",
       "    </tr>\n",
       "    <tr>\n",
       "      <th>43</th>\n",
       "      <td>1987-01</td>\n",
       "      <td>Alberta</td>\n",
       "      <td>Arts, culture, sports et loisirs [5]</td>\n",
       "      <td>Hommes</td>\n",
       "      <td>Durée moyenne</td>\n",
       "      <td>86.8</td>\n",
       "      <td>NaN</td>\n",
       "    </tr>\n",
       "    <tr>\n",
       "      <th>...</th>\n",
       "      <td>...</td>\n",
       "      <td>...</td>\n",
       "      <td>...</td>\n",
       "      <td>...</td>\n",
       "      <td>...</td>\n",
       "      <td>...</td>\n",
       "      <td>...</td>\n",
       "    </tr>\n",
       "    <tr>\n",
       "      <th>6498025</th>\n",
       "      <td>2022-09</td>\n",
       "      <td>Île-du-Prince-Édouard</td>\n",
       "      <td>Superviseurs/superviseures et métiers techniqu...</td>\n",
       "      <td>Hommes</td>\n",
       "      <td>Durée moyenne</td>\n",
       "      <td>170.1</td>\n",
       "      <td>NaN</td>\n",
       "    </tr>\n",
       "    <tr>\n",
       "      <th>6498034</th>\n",
       "      <td>2022-09</td>\n",
       "      <td>Île-du-Prince-Édouard</td>\n",
       "      <td>Superviseurs/superviseures et métiers techniqu...</td>\n",
       "      <td>Les deux sexes</td>\n",
       "      <td>Durée moyenne</td>\n",
       "      <td>182.0</td>\n",
       "      <td>NaN</td>\n",
       "    </tr>\n",
       "    <tr>\n",
       "      <th>6498043</th>\n",
       "      <td>2022-09</td>\n",
       "      <td>Île-du-Prince-Édouard</td>\n",
       "      <td>Vente et services [6]</td>\n",
       "      <td>Femmes</td>\n",
       "      <td>Durée moyenne</td>\n",
       "      <td>77.6</td>\n",
       "      <td>NaN</td>\n",
       "    </tr>\n",
       "    <tr>\n",
       "      <th>6498052</th>\n",
       "      <td>2022-09</td>\n",
       "      <td>Île-du-Prince-Édouard</td>\n",
       "      <td>Vente et services [6]</td>\n",
       "      <td>Hommes</td>\n",
       "      <td>Durée moyenne</td>\n",
       "      <td>92.7</td>\n",
       "      <td>NaN</td>\n",
       "    </tr>\n",
       "    <tr>\n",
       "      <th>6498061</th>\n",
       "      <td>2022-09</td>\n",
       "      <td>Île-du-Prince-Édouard</td>\n",
       "      <td>Vente et services [6]</td>\n",
       "      <td>Les deux sexes</td>\n",
       "      <td>Durée moyenne</td>\n",
       "      <td>83.8</td>\n",
       "      <td>NaN</td>\n",
       "    </tr>\n",
       "  </tbody>\n",
       "</table>\n",
       "<p>722007 rows × 7 columns</p>\n",
       "</div>"
      ],
      "text/plain": [
       "        Annee/Mois                Regions  \\\n",
       "7          1987-01                Alberta   \n",
       "16         1987-01                Alberta   \n",
       "25         1987-01                Alberta   \n",
       "34         1987-01                Alberta   \n",
       "43         1987-01                Alberta   \n",
       "...            ...                    ...   \n",
       "6498025    2022-09  Île-du-Prince-Édouard   \n",
       "6498034    2022-09  Île-du-Prince-Édouard   \n",
       "6498043    2022-09  Île-du-Prince-Édouard   \n",
       "6498052    2022-09  Île-du-Prince-Édouard   \n",
       "6498061    2022-09  Île-du-Prince-Édouard   \n",
       "\n",
       "                                                       CNP            Sexe  \\\n",
       "7                  Affaires, finance et administration [1]          Femmes   \n",
       "16                 Affaires, finance et administration [1]          Hommes   \n",
       "25                 Affaires, finance et administration [1]  Les deux sexes   \n",
       "34                    Arts, culture, sports et loisirs [5]          Femmes   \n",
       "43                    Arts, culture, sports et loisirs [5]          Hommes   \n",
       "...                                                    ...             ...   \n",
       "6498025  Superviseurs/superviseures et métiers techniqu...          Hommes   \n",
       "6498034  Superviseurs/superviseures et métiers techniqu...  Les deux sexes   \n",
       "6498043                              Vente et services [6]          Femmes   \n",
       "6498052                              Vente et services [6]          Hommes   \n",
       "6498061                              Vente et services [6]  Les deux sexes   \n",
       "\n",
       "        Durée de l'emploi   Mois  Personnes  \n",
       "7           Durée moyenne   66.4        NaN  \n",
       "16          Durée moyenne   88.7        NaN  \n",
       "25          Durée moyenne   72.3        NaN  \n",
       "34          Durée moyenne   42.6        NaN  \n",
       "43          Durée moyenne   86.8        NaN  \n",
       "...                   ...    ...        ...  \n",
       "6498025     Durée moyenne  170.1        NaN  \n",
       "6498034     Durée moyenne  182.0        NaN  \n",
       "6498043     Durée moyenne   77.6        NaN  \n",
       "6498052     Durée moyenne   92.7        NaN  \n",
       "6498061     Durée moyenne   83.8        NaN  \n",
       "\n",
       "[722007 rows x 7 columns]"
      ]
     },
     "execution_count": 20,
     "metadata": {},
     "output_type": "execute_result"
    }
   ],
   "source": [
    "duree_emploi_CNP[duree_emploi_CNP.Mois.notnull()]"
   ]
  },
  {
   "cell_type": "markdown",
   "id": "043c1aa1",
   "metadata": {},
   "source": [
    "### Pivoter la Duree de l emploi"
   ]
  },
  {
   "cell_type": "code",
   "execution_count": 21,
   "id": "8337ff3a",
   "metadata": {},
   "outputs": [],
   "source": [
    "\n",
    "df1_=duree_emploi_CNP[duree_emploi_CNP.Mois.notnull()][[\"Annee/Mois\",\"Regions\",\"CNP\",\"Sexe\",\"Durée de l'emploi\",\"Mois\"]].set_index([\"Annee/Mois\",\"Regions\",\"CNP\",\"Sexe\"])"
   ]
  },
  {
   "cell_type": "code",
   "execution_count": 22,
   "id": "cc423c80",
   "metadata": {},
   "outputs": [
    {
     "data": {
      "text/plain": [
       "Index(['Durée de l'emploi', 'Mois'], dtype='object')"
      ]
     },
     "execution_count": 22,
     "metadata": {},
     "output_type": "execute_result"
    }
   ],
   "source": [
    "df1_.columns"
   ]
  },
  {
   "cell_type": "code",
   "execution_count": 23,
   "id": "f0f23bbc",
   "metadata": {},
   "outputs": [
    {
     "data": {
      "text/plain": [
       "1 à 3 mois                     722007\n",
       "121 à 240 mois                 722007\n",
       "13 à 60 mois                   722007\n",
       "241 mois ou plus               722007\n",
       "4 à 6 mois                     722007\n",
       "61 à 120 mois                  722007\n",
       "7 à 12 mois                    722007\n",
       "Emploi total, tous les mois    722007\n",
       "Name: Durée de l'emploi, dtype: int64"
      ]
     },
     "execution_count": 23,
     "metadata": {},
     "output_type": "execute_result"
    }
   ],
   "source": [
    "duree_emploi_CNP[duree_emploi_CNP.Mois.isnull()][\"Durée de l'emploi\"].value_counts()"
   ]
  },
  {
   "cell_type": "code",
   "execution_count": 25,
   "id": "29656059",
   "metadata": {},
   "outputs": [],
   "source": [
    "df2_=duree_emploi_CNP[duree_emploi_CNP.Mois.isnull()][[\"Annee/Mois\",\"Regions\",\"CNP\",\"Sexe\",\"Durée de l'emploi\",\"Personnes\"]].set_index([\"Annee/Mois\",\"Regions\",\"CNP\",\"Sexe\"])"
   ]
  },
  {
   "cell_type": "code",
   "execution_count": 26,
   "id": "0f88005b",
   "metadata": {},
   "outputs": [
    {
     "data": {
      "text/html": [
       "<div>\n",
       "<style scoped>\n",
       "    .dataframe tbody tr th:only-of-type {\n",
       "        vertical-align: middle;\n",
       "    }\n",
       "\n",
       "    .dataframe tbody tr th {\n",
       "        vertical-align: top;\n",
       "    }\n",
       "\n",
       "    .dataframe thead th {\n",
       "        text-align: right;\n",
       "    }\n",
       "</style>\n",
       "<table border=\"1\" class=\"dataframe\">\n",
       "  <thead>\n",
       "    <tr style=\"text-align: right;\">\n",
       "      <th></th>\n",
       "      <th></th>\n",
       "      <th></th>\n",
       "      <th></th>\n",
       "      <th>Durée de l'emploi</th>\n",
       "      <th>Personnes</th>\n",
       "    </tr>\n",
       "    <tr>\n",
       "      <th>Annee/Mois</th>\n",
       "      <th>Regions</th>\n",
       "      <th>CNP</th>\n",
       "      <th>Sexe</th>\n",
       "      <th></th>\n",
       "      <th></th>\n",
       "    </tr>\n",
       "  </thead>\n",
       "  <tbody>\n",
       "    <tr>\n",
       "      <th rowspan=\"5\" valign=\"top\">1987-01</th>\n",
       "      <th rowspan=\"5\" valign=\"top\">Alberta</th>\n",
       "      <th rowspan=\"5\" valign=\"top\">Affaires, finance et administration [1]</th>\n",
       "      <th>Femmes</th>\n",
       "      <td>1 à 3 mois</td>\n",
       "      <td>14.1</td>\n",
       "    </tr>\n",
       "    <tr>\n",
       "      <th>Femmes</th>\n",
       "      <td>121 à 240 mois</td>\n",
       "      <td>19.7</td>\n",
       "    </tr>\n",
       "    <tr>\n",
       "      <th>Femmes</th>\n",
       "      <td>13 à 60 mois</td>\n",
       "      <td>53.4</td>\n",
       "    </tr>\n",
       "    <tr>\n",
       "      <th>Femmes</th>\n",
       "      <td>241 mois ou plus</td>\n",
       "      <td>7.1</td>\n",
       "    </tr>\n",
       "    <tr>\n",
       "      <th>Femmes</th>\n",
       "      <td>4 à 6 mois</td>\n",
       "      <td>12.4</td>\n",
       "    </tr>\n",
       "    <tr>\n",
       "      <th>...</th>\n",
       "      <th>...</th>\n",
       "      <th>...</th>\n",
       "      <th>...</th>\n",
       "      <td>...</td>\n",
       "      <td>...</td>\n",
       "    </tr>\n",
       "    <tr>\n",
       "      <th rowspan=\"5\" valign=\"top\">2022-09</th>\n",
       "      <th rowspan=\"5\" valign=\"top\">Île-du-Prince-Édouard</th>\n",
       "      <th rowspan=\"5\" valign=\"top\">Vente et services [6]</th>\n",
       "      <th>Les deux sexes</th>\n",
       "      <td>241 mois ou plus</td>\n",
       "      <td>2.6</td>\n",
       "    </tr>\n",
       "    <tr>\n",
       "      <th>Les deux sexes</th>\n",
       "      <td>4 à 6 mois</td>\n",
       "      <td>2.9</td>\n",
       "    </tr>\n",
       "    <tr>\n",
       "      <th>Les deux sexes</th>\n",
       "      <td>61 à 120 mois</td>\n",
       "      <td>1.8</td>\n",
       "    </tr>\n",
       "    <tr>\n",
       "      <th>Les deux sexes</th>\n",
       "      <td>7 à 12 mois</td>\n",
       "      <td>1.6</td>\n",
       "    </tr>\n",
       "    <tr>\n",
       "      <th>Les deux sexes</th>\n",
       "      <td>Emploi total, tous les mois</td>\n",
       "      <td>16.5</td>\n",
       "    </tr>\n",
       "  </tbody>\n",
       "</table>\n",
       "<p>5776056 rows × 2 columns</p>\n",
       "</div>"
      ],
      "text/plain": [
       "                                                                                                   Durée de l'emploi  \\\n",
       "Annee/Mois Regions               CNP                                     Sexe                                          \n",
       "1987-01    Alberta               Affaires, finance et administration [1] Femmes                           1 à 3 mois   \n",
       "                                                                         Femmes                       121 à 240 mois   \n",
       "                                                                         Femmes                         13 à 60 mois   \n",
       "                                                                         Femmes                     241 mois ou plus   \n",
       "                                                                         Femmes                           4 à 6 mois   \n",
       "...                                                                                                              ...   \n",
       "2022-09    Île-du-Prince-Édouard Vente et services [6]                   Les deux sexes             241 mois ou plus   \n",
       "                                                                         Les deux sexes                   4 à 6 mois   \n",
       "                                                                         Les deux sexes                61 à 120 mois   \n",
       "                                                                         Les deux sexes                  7 à 12 mois   \n",
       "                                                                         Les deux sexes  Emploi total, tous les mois   \n",
       "\n",
       "                                                                                         Personnes  \n",
       "Annee/Mois Regions               CNP                                     Sexe                       \n",
       "1987-01    Alberta               Affaires, finance et administration [1] Femmes               14.1  \n",
       "                                                                         Femmes               19.7  \n",
       "                                                                         Femmes               53.4  \n",
       "                                                                         Femmes                7.1  \n",
       "                                                                         Femmes               12.4  \n",
       "...                                                                                            ...  \n",
       "2022-09    Île-du-Prince-Édouard Vente et services [6]                   Les deux sexes        2.6  \n",
       "                                                                         Les deux sexes        2.9  \n",
       "                                                                         Les deux sexes        1.8  \n",
       "                                                                         Les deux sexes        1.6  \n",
       "                                                                         Les deux sexes       16.5  \n",
       "\n",
       "[5776056 rows x 2 columns]"
      ]
     },
     "execution_count": 26,
     "metadata": {},
     "output_type": "execute_result"
    }
   ],
   "source": [
    "df2_"
   ]
  },
  {
   "cell_type": "code",
   "execution_count": 27,
   "id": "3f591882",
   "metadata": {},
   "outputs": [],
   "source": [
    "duree_emploi_CNP_=df1_.merge(df2_,how=\"inner\",left_index=True, right_index=True).reset_index()"
   ]
  },
  {
   "cell_type": "code",
   "execution_count": 28,
   "id": "41243875",
   "metadata": {},
   "outputs": [
    {
     "data": {
      "text/html": [
       "<div>\n",
       "<style scoped>\n",
       "    .dataframe tbody tr th:only-of-type {\n",
       "        vertical-align: middle;\n",
       "    }\n",
       "\n",
       "    .dataframe tbody tr th {\n",
       "        vertical-align: top;\n",
       "    }\n",
       "\n",
       "    .dataframe thead th {\n",
       "        text-align: right;\n",
       "    }\n",
       "</style>\n",
       "<table border=\"1\" class=\"dataframe\">\n",
       "  <thead>\n",
       "    <tr style=\"text-align: right;\">\n",
       "      <th></th>\n",
       "      <th>Annee/Mois</th>\n",
       "      <th>Regions</th>\n",
       "      <th>CNP</th>\n",
       "      <th>Sexe</th>\n",
       "      <th>Durée de l'emploi_x</th>\n",
       "      <th>Mois</th>\n",
       "      <th>Durée de l'emploi_y</th>\n",
       "      <th>Personnes</th>\n",
       "    </tr>\n",
       "  </thead>\n",
       "  <tbody>\n",
       "    <tr>\n",
       "      <th>0</th>\n",
       "      <td>1987-01</td>\n",
       "      <td>Alberta</td>\n",
       "      <td>Affaires, finance et administration [1]</td>\n",
       "      <td>Femmes</td>\n",
       "      <td>Durée moyenne</td>\n",
       "      <td>66.4</td>\n",
       "      <td>1 à 3 mois</td>\n",
       "      <td>14.1</td>\n",
       "    </tr>\n",
       "    <tr>\n",
       "      <th>1</th>\n",
       "      <td>1987-01</td>\n",
       "      <td>Alberta</td>\n",
       "      <td>Affaires, finance et administration [1]</td>\n",
       "      <td>Femmes</td>\n",
       "      <td>Durée moyenne</td>\n",
       "      <td>66.4</td>\n",
       "      <td>121 à 240 mois</td>\n",
       "      <td>19.7</td>\n",
       "    </tr>\n",
       "    <tr>\n",
       "      <th>2</th>\n",
       "      <td>1987-01</td>\n",
       "      <td>Alberta</td>\n",
       "      <td>Affaires, finance et administration [1]</td>\n",
       "      <td>Femmes</td>\n",
       "      <td>Durée moyenne</td>\n",
       "      <td>66.4</td>\n",
       "      <td>13 à 60 mois</td>\n",
       "      <td>53.4</td>\n",
       "    </tr>\n",
       "    <tr>\n",
       "      <th>3</th>\n",
       "      <td>1987-01</td>\n",
       "      <td>Alberta</td>\n",
       "      <td>Affaires, finance et administration [1]</td>\n",
       "      <td>Femmes</td>\n",
       "      <td>Durée moyenne</td>\n",
       "      <td>66.4</td>\n",
       "      <td>241 mois ou plus</td>\n",
       "      <td>7.1</td>\n",
       "    </tr>\n",
       "    <tr>\n",
       "      <th>4</th>\n",
       "      <td>1987-01</td>\n",
       "      <td>Alberta</td>\n",
       "      <td>Affaires, finance et administration [1]</td>\n",
       "      <td>Femmes</td>\n",
       "      <td>Durée moyenne</td>\n",
       "      <td>66.4</td>\n",
       "      <td>4 à 6 mois</td>\n",
       "      <td>12.4</td>\n",
       "    </tr>\n",
       "    <tr>\n",
       "      <th>...</th>\n",
       "      <td>...</td>\n",
       "      <td>...</td>\n",
       "      <td>...</td>\n",
       "      <td>...</td>\n",
       "      <td>...</td>\n",
       "      <td>...</td>\n",
       "      <td>...</td>\n",
       "      <td>...</td>\n",
       "    </tr>\n",
       "    <tr>\n",
       "      <th>5776051</th>\n",
       "      <td>2022-09</td>\n",
       "      <td>Île-du-Prince-Édouard</td>\n",
       "      <td>Vente et services [6]</td>\n",
       "      <td>Les deux sexes</td>\n",
       "      <td>Durée moyenne</td>\n",
       "      <td>83.8</td>\n",
       "      <td>241 mois ou plus</td>\n",
       "      <td>2.6</td>\n",
       "    </tr>\n",
       "    <tr>\n",
       "      <th>5776052</th>\n",
       "      <td>2022-09</td>\n",
       "      <td>Île-du-Prince-Édouard</td>\n",
       "      <td>Vente et services [6]</td>\n",
       "      <td>Les deux sexes</td>\n",
       "      <td>Durée moyenne</td>\n",
       "      <td>83.8</td>\n",
       "      <td>4 à 6 mois</td>\n",
       "      <td>2.9</td>\n",
       "    </tr>\n",
       "    <tr>\n",
       "      <th>5776053</th>\n",
       "      <td>2022-09</td>\n",
       "      <td>Île-du-Prince-Édouard</td>\n",
       "      <td>Vente et services [6]</td>\n",
       "      <td>Les deux sexes</td>\n",
       "      <td>Durée moyenne</td>\n",
       "      <td>83.8</td>\n",
       "      <td>61 à 120 mois</td>\n",
       "      <td>1.8</td>\n",
       "    </tr>\n",
       "    <tr>\n",
       "      <th>5776054</th>\n",
       "      <td>2022-09</td>\n",
       "      <td>Île-du-Prince-Édouard</td>\n",
       "      <td>Vente et services [6]</td>\n",
       "      <td>Les deux sexes</td>\n",
       "      <td>Durée moyenne</td>\n",
       "      <td>83.8</td>\n",
       "      <td>7 à 12 mois</td>\n",
       "      <td>1.6</td>\n",
       "    </tr>\n",
       "    <tr>\n",
       "      <th>5776055</th>\n",
       "      <td>2022-09</td>\n",
       "      <td>Île-du-Prince-Édouard</td>\n",
       "      <td>Vente et services [6]</td>\n",
       "      <td>Les deux sexes</td>\n",
       "      <td>Durée moyenne</td>\n",
       "      <td>83.8</td>\n",
       "      <td>Emploi total, tous les mois</td>\n",
       "      <td>16.5</td>\n",
       "    </tr>\n",
       "  </tbody>\n",
       "</table>\n",
       "<p>5776056 rows × 8 columns</p>\n",
       "</div>"
      ],
      "text/plain": [
       "        Annee/Mois                Regions  \\\n",
       "0          1987-01                Alberta   \n",
       "1          1987-01                Alberta   \n",
       "2          1987-01                Alberta   \n",
       "3          1987-01                Alberta   \n",
       "4          1987-01                Alberta   \n",
       "...            ...                    ...   \n",
       "5776051    2022-09  Île-du-Prince-Édouard   \n",
       "5776052    2022-09  Île-du-Prince-Édouard   \n",
       "5776053    2022-09  Île-du-Prince-Édouard   \n",
       "5776054    2022-09  Île-du-Prince-Édouard   \n",
       "5776055    2022-09  Île-du-Prince-Édouard   \n",
       "\n",
       "                                             CNP            Sexe  \\\n",
       "0        Affaires, finance et administration [1]          Femmes   \n",
       "1        Affaires, finance et administration [1]          Femmes   \n",
       "2        Affaires, finance et administration [1]          Femmes   \n",
       "3        Affaires, finance et administration [1]          Femmes   \n",
       "4        Affaires, finance et administration [1]          Femmes   \n",
       "...                                          ...             ...   \n",
       "5776051                    Vente et services [6]  Les deux sexes   \n",
       "5776052                    Vente et services [6]  Les deux sexes   \n",
       "5776053                    Vente et services [6]  Les deux sexes   \n",
       "5776054                    Vente et services [6]  Les deux sexes   \n",
       "5776055                    Vente et services [6]  Les deux sexes   \n",
       "\n",
       "        Durée de l'emploi_x  Mois          Durée de l'emploi_y  Personnes  \n",
       "0             Durée moyenne  66.4                   1 à 3 mois       14.1  \n",
       "1             Durée moyenne  66.4               121 à 240 mois       19.7  \n",
       "2             Durée moyenne  66.4                 13 à 60 mois       53.4  \n",
       "3             Durée moyenne  66.4             241 mois ou plus        7.1  \n",
       "4             Durée moyenne  66.4                   4 à 6 mois       12.4  \n",
       "...                     ...   ...                          ...        ...  \n",
       "5776051       Durée moyenne  83.8             241 mois ou plus        2.6  \n",
       "5776052       Durée moyenne  83.8                   4 à 6 mois        2.9  \n",
       "5776053       Durée moyenne  83.8                61 à 120 mois        1.8  \n",
       "5776054       Durée moyenne  83.8                  7 à 12 mois        1.6  \n",
       "5776055       Durée moyenne  83.8  Emploi total, tous les mois       16.5  \n",
       "\n",
       "[5776056 rows x 8 columns]"
      ]
     },
     "execution_count": 28,
     "metadata": {},
     "output_type": "execute_result"
    }
   ],
   "source": [
    "duree_emploi_CNP_"
   ]
  },
  {
   "cell_type": "code",
   "execution_count": 29,
   "id": "ef53ffad",
   "metadata": {},
   "outputs": [],
   "source": [
    "duree_emploi_CNP_.rename(columns={\"Mois\":\"Duree moyenne emploi\",\"Durée de l'emploi_y\":\"Durée de l'emploi\"},inplace=True)"
   ]
  },
  {
   "cell_type": "code",
   "execution_count": 30,
   "id": "557d86b7",
   "metadata": {},
   "outputs": [],
   "source": [
    "duree_emploi_CNP_=duree_emploi_CNP_.drop(\"Durée de l'emploi_x\",axis=1)"
   ]
  },
  {
   "cell_type": "code",
   "execution_count": 31,
   "id": "8c8f3ada",
   "metadata": {},
   "outputs": [
    {
     "data": {
      "text/plain": [
       "(5776056, 7)"
      ]
     },
     "execution_count": 31,
     "metadata": {},
     "output_type": "execute_result"
    }
   ],
   "source": [
    "duree_emploi_CNP_.shape"
   ]
  },
  {
   "cell_type": "markdown",
   "id": "5052ce64",
   "metadata": {},
   "source": [
    "### Analyse caractéristiques catégorielles"
   ]
  },
  {
   "cell_type": "markdown",
   "id": "20b730fe",
   "metadata": {},
   "source": [
    "#### Séparer les données en colonnes numériques et catégorielle"
   ]
  },
  {
   "cell_type": "code",
   "execution_count": 32,
   "id": "a896538d",
   "metadata": {},
   "outputs": [
    {
     "name": "stdout",
     "output_type": "stream",
     "text": [
      "Variable catégorielle: ['Annee/Mois', 'Regions', 'CNP', 'Sexe', \"Durée de l'emploi\"]\n",
      "Variable numériques: ['Duree moyenne emploi', 'Personnes']\n"
     ]
    }
   ],
   "source": [
    "cat_col=[]\n",
    "num_col=[]\n",
    "\n",
    "for col in duree_emploi_CNP_.columns:\n",
    "    if duree_emploi_CNP_[col].dtypes==\"object\":\n",
    "        cat_col.append(col)\n",
    "    else:\n",
    "        num_col.append(col)\n",
    "print (\"Variable catégorielle:\",cat_col)\n",
    "print(\"Variable numériques:\",num_col)"
   ]
  },
  {
   "cell_type": "markdown",
   "id": "9c924f5e",
   "metadata": {},
   "source": [
    "#### Nombre valeurs uniques"
   ]
  },
  {
   "cell_type": "code",
   "execution_count": 33,
   "id": "386e6519",
   "metadata": {},
   "outputs": [
    {
     "name": "stdout",
     "output_type": "stream",
     "text": [
      "Annee/Mois (429) :\n",
      "1987-01    13464\n",
      "2011-08    13464\n",
      "2011-06    13464\n",
      "2011-05    13464\n",
      "2011-04    13464\n",
      "           ...  \n",
      "1998-09    13464\n",
      "1998-08    13464\n",
      "1998-07    13464\n",
      "1998-06    13464\n",
      "2022-09    13464\n",
      "Name: Annee/Mois, Length: 429, dtype: int64\n",
      "\n",
      "\n",
      "Regions (11) :\n",
      "Alberta                    525096\n",
      "Canada                     525096\n",
      "Colombie-Britannique       525096\n",
      "Manitoba                   525096\n",
      "Nouveau-Brunswick          525096\n",
      "Nouvelle-Écosse            525096\n",
      "Ontario                    525096\n",
      "Québec                     525096\n",
      "Saskatchewan               525096\n",
      "Terre-Neuve-et-Labrador    525096\n",
      "Île-du-Prince-Édouard      525096\n",
      "Name: Regions, dtype: int64\n",
      "\n",
      "\n",
      "CNP (51) :\n",
      "Affaires, finance et administration [1]                                                                                                                           113256\n",
      "Personnel professionnel en gestion des affaires et en finance [11]                                                                                                113256\n",
      "Personnel des métiers de l'électricité, de la construction et des industries [72]                                                                                 113256\n",
      "Personnel des services de protection public de première ligne [43]                                                                                                113256\n",
      "Personnel en finance, assurance et personnel assimilé en administration des affaires [13]                                                                         113256\n",
      "Personnel en opération d'équipement de transport et de machinerie lourde et autre personnel assimilé à l'entretien [75]                                           113256\n",
      "Personnel en ressources naturelles, en agriculture et en production connexe [84]                                                                                  113256\n",
      "Personnel paraprofessionnel des services juridiques, sociaux, communautaires et de l'enseignement [42]                                                            113256\n",
      "Personnel professionnel des arts et de la culture [51]                                                                                                            113256\n",
      "Personnel professionnel des sciences naturelles et appliquées [21]                                                                                                113256\n",
      "Personnel professionnel des soins de santé (sauf soins infirmiers) [31]                                                                                           113256\n",
      "Personnel professionnel du droit et des services gouvernementaux, sociaux et communautaires [41]                                                                  113256\n",
      "Personnel professionnel en services d'enseignement [40]                                                                                                           113256\n",
      "Personnel de supervision en services et personnel de services spécialisés [63]                                                                                    113256\n",
      "Personnel professionnel en soins infirmiers [30]                                                                                                                  113256\n",
      "Personnel technique assimilé aux sciences naturelles et appliquées [22]                                                                                           113256\n",
      "Personnel technique des arts, de la culture, des sports et des loisirs [52]                                                                                       113256\n",
      "Personnel technique des soins de santé [32]                                                                                                                       113256\n",
      "Représentants/représentantes de services et autre personnel de services à la clientèle et personnalisés [65]                                                      113256\n",
      "Représentants/représentantes des ventes et vendeurs/vendeuses - commerce de gros et de détail [64]                                                                113256\n",
      "Ressources naturelles, agriculture et production connexe [8]                                                                                                      113256\n",
      "Sciences naturelles et appliquées et domaines apparentés [2]                                                                                                      113256\n",
      "Secteur de la santé [3]                                                                                                                                           113256\n",
      "Superviseurs/superviseures et métiers techniques dans les ressources naturelles, l'agriculture et la production connexe [82]                                      113256\n",
      "Personnel des métiers d'entretien et d'opération d'équipement [73]                                                                                                113256\n",
      "Personnel de supervision du travail administratif et financier et personnel administratif [12]                                                                    113256\n",
      "Arts, culture, sports et loisirs [5]                                                                                                                              113256\n",
      "Manoeuvres à la récolte, en aménagement paysager et en ressources naturelles [86]                                                                                 113256\n",
      "Cadres intermédiaires dans le commerce de détail, de gros et des services à la clientèle [06]                                                                     113256\n",
      "Cadres intermédiaires des métiers, des transports, de la production et des services d'utilité publique [07-09]                                                    113256\n",
      "Cadres intermédiaires spécialisés/cadres intermédiaires spécialisées [01-05]                                                                                      113256\n",
      "Cadres supérieurs/cadres supérieures [00]                                                                                                                         113256\n",
      "Dispensateurs/dispensatrices de soins et personnel de soutien en enseignement, en droit et en protection publique [44]                                            113256\n",
      "Emploi total, toutes les professions                                                                                                                              113256\n",
      "Enseignement, droit et services sociaux, communautaires et gouvernementaux [4]                                                                                    113256\n",
      "Fabrication et services d'utilité publique [9]                                                                                                                    113256\n",
      "Gestion [0]                                                                                                                                                       113256\n",
      "Manoeuvres dans la transformation, la fabrication et les services d'utilité publique [96]                                                                         113256\n",
      "Monteurs/monteuses dans la fabrication [95]                                                                                                                       113256\n",
      "Personnel de supervision des ventes au détail et personnel des ventes spécialisées [62]                                                                           113256\n",
      "Métiers, transport, machinerie et domaines apparentés [7]                                                                                                         113256\n",
      "Opérateurs/opératrices de machinerie reliée à la transformation et à la fabrication et autre personnel assimilé [94]                                              113256\n",
      "Personnel d'installation, de réparation et d'entretien et manutentionnaires [74]                                                                                  113256\n",
      "Personnel de coordination de la distribution, du suivi et des horaires [15]                                                                                       113256\n",
      "Personnel de soutien de bureau [14]                                                                                                                               113256\n",
      "Personnel de soutien des métiers, manoeuvres et aides d'entreprise en construction et autre personnel assimilé [76]                                               113256\n",
      "Personnel de soutien des services de santé [34]                                                                                                                   113256\n",
      "Personnel de soutien des ventes [66]                                                                                                                              113256\n",
      "Personnel de soutien en service et autre personnel de service, n.c.a. [67]                                                                                        113256\n",
      "Personnel de supervision dans la transformation, la fabrication et les services d'utilité publique et opérateurs/opératrices de poste central de contrôle [92]    113256\n",
      "Vente et services [6]                                                                                                                                             113256\n",
      "Name: CNP, dtype: int64\n",
      "\n",
      "\n",
      "Sexe (3) :\n",
      "Femmes            1925352\n",
      "Hommes            1925352\n",
      "Les deux sexes    1925352\n",
      "Name: Sexe, dtype: int64\n",
      "\n",
      "\n",
      "Durée de l'emploi (8) :\n",
      "1 à 3 mois                     722007\n",
      "121 à 240 mois                 722007\n",
      "13 à 60 mois                   722007\n",
      "241 mois ou plus               722007\n",
      "4 à 6 mois                     722007\n",
      "61 à 120 mois                  722007\n",
      "7 à 12 mois                    722007\n",
      "Emploi total, tous les mois    722007\n",
      "Name: Durée de l'emploi, dtype: int64\n",
      "\n",
      "\n"
     ]
    }
   ],
   "source": [
    "for col in cat_col:\n",
    "    print(col,'({})'.format(duree_emploi_CNP_[col].nunique()),\":\")\n",
    "    print(duree_emploi_CNP_[col].value_counts())\n",
    "    print()\n",
    "    print()"
   ]
  },
  {
   "cell_type": "markdown",
   "id": "ca52ab19",
   "metadata": {},
   "source": [
    "* La variable Regions contient 11 modalites\n",
    "* La variable CNP contient 51 modalites\n",
    "* La variable Sexe contienttient 3 modaliteses\n",
    "* La variable Durée de l'emploi contient 9 modalites\n",
    "* La variable Année/Mois contient 429 modalites\n",
    "\n",
    "\n",
    "Note: La répartition des données est égale pour toutes les modalités de chaque catégories"
   ]
  },
  {
   "cell_type": "markdown",
   "id": "6313b252",
   "metadata": {},
   "source": [
    "### Analyse caractéristiques numériques"
   ]
  },
  {
   "cell_type": "code",
   "execution_count": 34,
   "id": "83196e27",
   "metadata": {},
   "outputs": [
    {
     "data": {
      "text/html": [
       "<div>\n",
       "<style scoped>\n",
       "    .dataframe tbody tr th:only-of-type {\n",
       "        vertical-align: middle;\n",
       "    }\n",
       "\n",
       "    .dataframe tbody tr th {\n",
       "        vertical-align: top;\n",
       "    }\n",
       "\n",
       "    .dataframe thead th {\n",
       "        text-align: right;\n",
       "    }\n",
       "</style>\n",
       "<table border=\"1\" class=\"dataframe\">\n",
       "  <thead>\n",
       "    <tr style=\"text-align: right;\">\n",
       "      <th></th>\n",
       "      <th>Duree moyenne emploi</th>\n",
       "      <th>Personnes</th>\n",
       "    </tr>\n",
       "  </thead>\n",
       "  <tbody>\n",
       "    <tr>\n",
       "      <th>count</th>\n",
       "      <td>5.776056e+06</td>\n",
       "      <td>5.776056e+06</td>\n",
       "    </tr>\n",
       "    <tr>\n",
       "      <th>mean</th>\n",
       "      <td>9.581171e+01</td>\n",
       "      <td>2.788090e+01</td>\n",
       "    </tr>\n",
       "    <tr>\n",
       "      <th>std</th>\n",
       "      <td>4.251440e+01</td>\n",
       "      <td>2.198379e+02</td>\n",
       "    </tr>\n",
       "    <tr>\n",
       "      <th>min</th>\n",
       "      <td>0.000000e+00</td>\n",
       "      <td>0.000000e+00</td>\n",
       "    </tr>\n",
       "    <tr>\n",
       "      <th>25%</th>\n",
       "      <td>7.010000e+01</td>\n",
       "      <td>0.000000e+00</td>\n",
       "    </tr>\n",
       "    <tr>\n",
       "      <th>50%</th>\n",
       "      <td>9.550000e+01</td>\n",
       "      <td>2.000000e+00</td>\n",
       "    </tr>\n",
       "    <tr>\n",
       "      <th>75%</th>\n",
       "      <td>1.195000e+02</td>\n",
       "      <td>1.020000e+01</td>\n",
       "    </tr>\n",
       "    <tr>\n",
       "      <th>max</th>\n",
       "      <td>4.740000e+02</td>\n",
       "      <td>1.996600e+04</td>\n",
       "    </tr>\n",
       "  </tbody>\n",
       "</table>\n",
       "</div>"
      ],
      "text/plain": [
       "       Duree moyenne emploi     Personnes\n",
       "count          5.776056e+06  5.776056e+06\n",
       "mean           9.581171e+01  2.788090e+01\n",
       "std            4.251440e+01  2.198379e+02\n",
       "min            0.000000e+00  0.000000e+00\n",
       "25%            7.010000e+01  0.000000e+00\n",
       "50%            9.550000e+01  2.000000e+00\n",
       "75%            1.195000e+02  1.020000e+01\n",
       "max            4.740000e+02  1.996600e+04"
      ]
     },
     "execution_count": 34,
     "metadata": {},
     "output_type": "execute_result"
    }
   ],
   "source": [
    "duree_emploi_CNP_.describe()"
   ]
  },
  {
   "cell_type": "markdown",
   "id": "be93b93e",
   "metadata": {},
   "source": [
    "La durée moyenne de travail est de 96 mois (~ 8 ans).\n",
    "Au moins 75% des personnes ont travailler 119.5 mois (~ 10 ans)"
   ]
  },
  {
   "cell_type": "code",
   "execution_count": 35,
   "id": "074637c9",
   "metadata": {},
   "outputs": [],
   "source": [
    "duree_emploi_CNP_0=duree_emploi_CNP_[duree_emploi_CNP_[\"Duree moyenne emploi\"]==0.0]"
   ]
  },
  {
   "cell_type": "code",
   "execution_count": 36,
   "id": "700a90e2",
   "metadata": {},
   "outputs": [
    {
     "data": {
      "text/plain": [
       "3.9332028636841474"
      ]
     },
     "execution_count": 36,
     "metadata": {},
     "output_type": "execute_result"
    }
   ],
   "source": [
    "(duree_emploi_CNP_[duree_emploi_CNP_[\"Duree moyenne emploi\"]==0.0].shape[0]/duree_emploi_CNP_.shape[0])*100"
   ]
  },
  {
   "cell_type": "markdown",
   "id": "44c8c8f1",
   "metadata": {},
   "source": [
    "Il y a 4% (227.184) occurences dont les variables duree moyenne emploi, et personnes ont la valeur 0.0 "
   ]
  },
  {
   "cell_type": "code",
   "execution_count": 38,
   "id": "5e8d85aa",
   "metadata": {},
   "outputs": [
    {
     "data": {
      "text/html": [
       "<div>\n",
       "<style scoped>\n",
       "    .dataframe tbody tr th:only-of-type {\n",
       "        vertical-align: middle;\n",
       "    }\n",
       "\n",
       "    .dataframe tbody tr th {\n",
       "        vertical-align: top;\n",
       "    }\n",
       "\n",
       "    .dataframe thead th {\n",
       "        text-align: right;\n",
       "    }\n",
       "</style>\n",
       "<table border=\"1\" class=\"dataframe\">\n",
       "  <thead>\n",
       "    <tr style=\"text-align: right;\">\n",
       "      <th></th>\n",
       "      <th>Regions</th>\n",
       "      <th>CNP</th>\n",
       "      <th>Sexe</th>\n",
       "      <th>Durée de l'emploi</th>\n",
       "      <th>level_4</th>\n",
       "      <th>Personnes</th>\n",
       "      <th>Duree moyenne emploi</th>\n",
       "    </tr>\n",
       "  </thead>\n",
       "  <tbody>\n",
       "    <tr>\n",
       "      <th>0</th>\n",
       "      <td>Alberta</td>\n",
       "      <td>Cadres supérieurs/cadres supérieures [00]</td>\n",
       "      <td>Femmes</td>\n",
       "      <td>1 à 3 mois</td>\n",
       "      <td>0</td>\n",
       "      <td>0.0</td>\n",
       "      <td>0.0</td>\n",
       "    </tr>\n",
       "    <tr>\n",
       "      <th>1</th>\n",
       "      <td>Alberta</td>\n",
       "      <td>Cadres supérieurs/cadres supérieures [00]</td>\n",
       "      <td>Femmes</td>\n",
       "      <td>1 à 3 mois</td>\n",
       "      <td>0</td>\n",
       "      <td>0.0</td>\n",
       "      <td>0.0</td>\n",
       "    </tr>\n",
       "    <tr>\n",
       "      <th>2</th>\n",
       "      <td>Alberta</td>\n",
       "      <td>Cadres supérieurs/cadres supérieures [00]</td>\n",
       "      <td>Femmes</td>\n",
       "      <td>1 à 3 mois</td>\n",
       "      <td>0</td>\n",
       "      <td>0.0</td>\n",
       "      <td>0.0</td>\n",
       "    </tr>\n",
       "    <tr>\n",
       "      <th>3</th>\n",
       "      <td>Alberta</td>\n",
       "      <td>Cadres supérieurs/cadres supérieures [00]</td>\n",
       "      <td>Femmes</td>\n",
       "      <td>1 à 3 mois</td>\n",
       "      <td>0</td>\n",
       "      <td>0.0</td>\n",
       "      <td>0.0</td>\n",
       "    </tr>\n",
       "    <tr>\n",
       "      <th>4</th>\n",
       "      <td>Alberta</td>\n",
       "      <td>Cadres supérieurs/cadres supérieures [00]</td>\n",
       "      <td>Femmes</td>\n",
       "      <td>1 à 3 mois</td>\n",
       "      <td>0</td>\n",
       "      <td>0.0</td>\n",
       "      <td>0.0</td>\n",
       "    </tr>\n",
       "    <tr>\n",
       "      <th>...</th>\n",
       "      <td>...</td>\n",
       "      <td>...</td>\n",
       "      <td>...</td>\n",
       "      <td>...</td>\n",
       "      <td>...</td>\n",
       "      <td>...</td>\n",
       "      <td>...</td>\n",
       "    </tr>\n",
       "    <tr>\n",
       "      <th>227179</th>\n",
       "      <td>Île-du-Prince-Édouard</td>\n",
       "      <td>Superviseurs/superviseures et métiers techniqu...</td>\n",
       "      <td>Femmes</td>\n",
       "      <td>Emploi total, tous les mois</td>\n",
       "      <td>0</td>\n",
       "      <td>0.0</td>\n",
       "      <td>0.0</td>\n",
       "    </tr>\n",
       "    <tr>\n",
       "      <th>227180</th>\n",
       "      <td>Île-du-Prince-Édouard</td>\n",
       "      <td>Superviseurs/superviseures et métiers techniqu...</td>\n",
       "      <td>Femmes</td>\n",
       "      <td>Emploi total, tous les mois</td>\n",
       "      <td>0</td>\n",
       "      <td>0.0</td>\n",
       "      <td>0.0</td>\n",
       "    </tr>\n",
       "    <tr>\n",
       "      <th>227181</th>\n",
       "      <td>Île-du-Prince-Édouard</td>\n",
       "      <td>Superviseurs/superviseures et métiers techniqu...</td>\n",
       "      <td>Femmes</td>\n",
       "      <td>Emploi total, tous les mois</td>\n",
       "      <td>0</td>\n",
       "      <td>0.0</td>\n",
       "      <td>0.0</td>\n",
       "    </tr>\n",
       "    <tr>\n",
       "      <th>227182</th>\n",
       "      <td>Île-du-Prince-Édouard</td>\n",
       "      <td>Superviseurs/superviseures et métiers techniqu...</td>\n",
       "      <td>Femmes</td>\n",
       "      <td>Emploi total, tous les mois</td>\n",
       "      <td>0</td>\n",
       "      <td>0.0</td>\n",
       "      <td>0.0</td>\n",
       "    </tr>\n",
       "    <tr>\n",
       "      <th>227183</th>\n",
       "      <td>Île-du-Prince-Édouard</td>\n",
       "      <td>Superviseurs/superviseures et métiers techniqu...</td>\n",
       "      <td>Femmes</td>\n",
       "      <td>Emploi total, tous les mois</td>\n",
       "      <td>0</td>\n",
       "      <td>0.0</td>\n",
       "      <td>0.0</td>\n",
       "    </tr>\n",
       "  </tbody>\n",
       "</table>\n",
       "<p>227184 rows × 7 columns</p>\n",
       "</div>"
      ],
      "text/plain": [
       "                      Regions  \\\n",
       "0                     Alberta   \n",
       "1                     Alberta   \n",
       "2                     Alberta   \n",
       "3                     Alberta   \n",
       "4                     Alberta   \n",
       "...                       ...   \n",
       "227179  Île-du-Prince-Édouard   \n",
       "227180  Île-du-Prince-Édouard   \n",
       "227181  Île-du-Prince-Édouard   \n",
       "227182  Île-du-Prince-Édouard   \n",
       "227183  Île-du-Prince-Édouard   \n",
       "\n",
       "                                                      CNP    Sexe  \\\n",
       "0               Cadres supérieurs/cadres supérieures [00]  Femmes   \n",
       "1               Cadres supérieurs/cadres supérieures [00]  Femmes   \n",
       "2               Cadres supérieurs/cadres supérieures [00]  Femmes   \n",
       "3               Cadres supérieurs/cadres supérieures [00]  Femmes   \n",
       "4               Cadres supérieurs/cadres supérieures [00]  Femmes   \n",
       "...                                                   ...     ...   \n",
       "227179  Superviseurs/superviseures et métiers techniqu...  Femmes   \n",
       "227180  Superviseurs/superviseures et métiers techniqu...  Femmes   \n",
       "227181  Superviseurs/superviseures et métiers techniqu...  Femmes   \n",
       "227182  Superviseurs/superviseures et métiers techniqu...  Femmes   \n",
       "227183  Superviseurs/superviseures et métiers techniqu...  Femmes   \n",
       "\n",
       "                  Durée de l'emploi  level_4  Personnes  Duree moyenne emploi  \n",
       "0                        1 à 3 mois        0        0.0                   0.0  \n",
       "1                        1 à 3 mois        0        0.0                   0.0  \n",
       "2                        1 à 3 mois        0        0.0                   0.0  \n",
       "3                        1 à 3 mois        0        0.0                   0.0  \n",
       "4                        1 à 3 mois        0        0.0                   0.0  \n",
       "...                             ...      ...        ...                   ...  \n",
       "227179  Emploi total, tous les mois        0        0.0                   0.0  \n",
       "227180  Emploi total, tous les mois        0        0.0                   0.0  \n",
       "227181  Emploi total, tous les mois        0        0.0                   0.0  \n",
       "227182  Emploi total, tous les mois        0        0.0                   0.0  \n",
       "227183  Emploi total, tous les mois        0        0.0                   0.0  \n",
       "\n",
       "[227184 rows x 7 columns]"
      ]
     },
     "execution_count": 38,
     "metadata": {},
     "output_type": "execute_result"
    }
   ],
   "source": [
    "def process_date(dg):\n",
    "    return pd.DataFrame([[\n",
    "                        dg[\"Personnes\"].sum(),\n",
    "                        dg[\"Duree moyenne emploi\"].mean(),\n",
    "                        ]], columns=[\"Personnes\", \"Duree moyenne emploi\"])\n",
    "\n",
    "duree_emploi_CNP_0.groupby([\"Regions\",\"CNP\",\"Sexe\",\"Durée de l'emploi\",\"Annee/Mois\"]).apply(process_date).reset_index(4, drop=True).reset_index(drop=False)"
   ]
  },
  {
   "cell_type": "markdown",
   "id": "17c7b22f",
   "metadata": {},
   "source": [
    "### Agregation par année"
   ]
  },
  {
   "cell_type": "code",
   "execution_count": 39,
   "id": "9395cbec",
   "metadata": {},
   "outputs": [],
   "source": [
    "duree_emploi_CNP_['Annee'] = duree_emploi_CNP_['Annee/Mois'].str[:4]"
   ]
  },
  {
   "cell_type": "code",
   "execution_count": 40,
   "id": "79d9bfe7",
   "metadata": {},
   "outputs": [
    {
     "data": {
      "text/html": [
       "<div>\n",
       "<style scoped>\n",
       "    .dataframe tbody tr th:only-of-type {\n",
       "        vertical-align: middle;\n",
       "    }\n",
       "\n",
       "    .dataframe tbody tr th {\n",
       "        vertical-align: top;\n",
       "    }\n",
       "\n",
       "    .dataframe thead th {\n",
       "        text-align: right;\n",
       "    }\n",
       "</style>\n",
       "<table border=\"1\" class=\"dataframe\">\n",
       "  <thead>\n",
       "    <tr style=\"text-align: right;\">\n",
       "      <th></th>\n",
       "      <th>Annee/Mois</th>\n",
       "      <th>Regions</th>\n",
       "      <th>CNP</th>\n",
       "      <th>Sexe</th>\n",
       "      <th>Duree moyenne emploi</th>\n",
       "      <th>Durée de l'emploi</th>\n",
       "      <th>Personnes</th>\n",
       "      <th>Annee</th>\n",
       "    </tr>\n",
       "  </thead>\n",
       "  <tbody>\n",
       "    <tr>\n",
       "      <th>0</th>\n",
       "      <td>1987-01</td>\n",
       "      <td>Alberta</td>\n",
       "      <td>Affaires, finance et administration [1]</td>\n",
       "      <td>Femmes</td>\n",
       "      <td>66.4</td>\n",
       "      <td>1 à 3 mois</td>\n",
       "      <td>14.1</td>\n",
       "      <td>1987</td>\n",
       "    </tr>\n",
       "    <tr>\n",
       "      <th>1</th>\n",
       "      <td>1987-01</td>\n",
       "      <td>Alberta</td>\n",
       "      <td>Affaires, finance et administration [1]</td>\n",
       "      <td>Femmes</td>\n",
       "      <td>66.4</td>\n",
       "      <td>121 à 240 mois</td>\n",
       "      <td>19.7</td>\n",
       "      <td>1987</td>\n",
       "    </tr>\n",
       "    <tr>\n",
       "      <th>2</th>\n",
       "      <td>1987-01</td>\n",
       "      <td>Alberta</td>\n",
       "      <td>Affaires, finance et administration [1]</td>\n",
       "      <td>Femmes</td>\n",
       "      <td>66.4</td>\n",
       "      <td>13 à 60 mois</td>\n",
       "      <td>53.4</td>\n",
       "      <td>1987</td>\n",
       "    </tr>\n",
       "    <tr>\n",
       "      <th>3</th>\n",
       "      <td>1987-01</td>\n",
       "      <td>Alberta</td>\n",
       "      <td>Affaires, finance et administration [1]</td>\n",
       "      <td>Femmes</td>\n",
       "      <td>66.4</td>\n",
       "      <td>241 mois ou plus</td>\n",
       "      <td>7.1</td>\n",
       "      <td>1987</td>\n",
       "    </tr>\n",
       "    <tr>\n",
       "      <th>4</th>\n",
       "      <td>1987-01</td>\n",
       "      <td>Alberta</td>\n",
       "      <td>Affaires, finance et administration [1]</td>\n",
       "      <td>Femmes</td>\n",
       "      <td>66.4</td>\n",
       "      <td>4 à 6 mois</td>\n",
       "      <td>12.4</td>\n",
       "      <td>1987</td>\n",
       "    </tr>\n",
       "  </tbody>\n",
       "</table>\n",
       "</div>"
      ],
      "text/plain": [
       "  Annee/Mois  Regions                                      CNP    Sexe  \\\n",
       "0    1987-01  Alberta  Affaires, finance et administration [1]  Femmes   \n",
       "1    1987-01  Alberta  Affaires, finance et administration [1]  Femmes   \n",
       "2    1987-01  Alberta  Affaires, finance et administration [1]  Femmes   \n",
       "3    1987-01  Alberta  Affaires, finance et administration [1]  Femmes   \n",
       "4    1987-01  Alberta  Affaires, finance et administration [1]  Femmes   \n",
       "\n",
       "   Duree moyenne emploi Durée de l'emploi  Personnes Annee  \n",
       "0                  66.4        1 à 3 mois       14.1  1987  \n",
       "1                  66.4    121 à 240 mois       19.7  1987  \n",
       "2                  66.4      13 à 60 mois       53.4  1987  \n",
       "3                  66.4  241 mois ou plus        7.1  1987  \n",
       "4                  66.4        4 à 6 mois       12.4  1987  "
      ]
     },
     "execution_count": 40,
     "metadata": {},
     "output_type": "execute_result"
    }
   ],
   "source": [
    "duree_emploi_CNP_.head()"
   ]
  },
  {
   "cell_type": "code",
   "execution_count": 41,
   "id": "bee57329",
   "metadata": {},
   "outputs": [],
   "source": [
    "def process_date(dg):\n",
    "    return pd.DataFrame([[\n",
    "                        dg[\"Personnes\"].sum(),\n",
    "                        dg[\"Duree moyenne emploi\"].mean(),\n",
    "                        ]], columns=[\"Personnes\", \"Duree moyenne emploi\"])\n",
    "\n"
   ]
  },
  {
   "cell_type": "code",
   "execution_count": 43,
   "id": "8ba25a8e",
   "metadata": {},
   "outputs": [],
   "source": [
    "df_duree_emploi=duree_emploi_CNP_.groupby([\"Regions\",\"CNP\",\"Sexe\",\"Durée de l'emploi\",\"Annee\"]).apply(process_date).reset_index(5, drop=True).reset_index(drop=False)"
   ]
  },
  {
   "cell_type": "code",
   "execution_count": 44,
   "id": "cd30576a",
   "metadata": {},
   "outputs": [
    {
     "data": {
      "text/html": [
       "<div>\n",
       "<style scoped>\n",
       "    .dataframe tbody tr th:only-of-type {\n",
       "        vertical-align: middle;\n",
       "    }\n",
       "\n",
       "    .dataframe tbody tr th {\n",
       "        vertical-align: top;\n",
       "    }\n",
       "\n",
       "    .dataframe thead th {\n",
       "        text-align: right;\n",
       "    }\n",
       "</style>\n",
       "<table border=\"1\" class=\"dataframe\">\n",
       "  <thead>\n",
       "    <tr style=\"text-align: right;\">\n",
       "      <th></th>\n",
       "      <th>Personnes</th>\n",
       "      <th>Duree moyenne emploi</th>\n",
       "    </tr>\n",
       "  </thead>\n",
       "  <tbody>\n",
       "    <tr>\n",
       "      <th>count</th>\n",
       "      <td>484704.000000</td>\n",
       "      <td>484704.000000</td>\n",
       "    </tr>\n",
       "    <tr>\n",
       "      <th>mean</th>\n",
       "      <td>332.247406</td>\n",
       "      <td>95.852020</td>\n",
       "    </tr>\n",
       "    <tr>\n",
       "      <th>std</th>\n",
       "      <td>2616.941711</td>\n",
       "      <td>38.159629</td>\n",
       "    </tr>\n",
       "    <tr>\n",
       "      <th>min</th>\n",
       "      <td>0.000000</td>\n",
       "      <td>0.000000</td>\n",
       "    </tr>\n",
       "    <tr>\n",
       "      <th>25%</th>\n",
       "      <td>3.000000</td>\n",
       "      <td>71.850000</td>\n",
       "    </tr>\n",
       "    <tr>\n",
       "      <th>50%</th>\n",
       "      <td>23.300000</td>\n",
       "      <td>95.391667</td>\n",
       "    </tr>\n",
       "    <tr>\n",
       "      <th>75%</th>\n",
       "      <td>121.300000</td>\n",
       "      <td>118.008333</td>\n",
       "    </tr>\n",
       "    <tr>\n",
       "      <th>max</th>\n",
       "      <td>227826.900000</td>\n",
       "      <td>322.808333</td>\n",
       "    </tr>\n",
       "  </tbody>\n",
       "</table>\n",
       "</div>"
      ],
      "text/plain": [
       "           Personnes  Duree moyenne emploi\n",
       "count  484704.000000         484704.000000\n",
       "mean      332.247406             95.852020\n",
       "std      2616.941711             38.159629\n",
       "min         0.000000              0.000000\n",
       "25%         3.000000             71.850000\n",
       "50%        23.300000             95.391667\n",
       "75%       121.300000            118.008333\n",
       "max    227826.900000            322.808333"
      ]
     },
     "execution_count": 44,
     "metadata": {},
     "output_type": "execute_result"
    }
   ],
   "source": [
    "df_duree_emploi.describe()"
   ]
  },
  {
   "cell_type": "markdown",
   "id": "f1d511ee",
   "metadata": {},
   "source": [
    "## Visualisation des données"
   ]
  },
  {
   "cell_type": "markdown",
   "id": "2d117e4e",
   "metadata": {},
   "source": [
    "Avec les année la difference homme vs femme de la durée d'emploi a diminuer.  "
   ]
  },
  {
   "cell_type": "code",
   "execution_count": 45,
   "id": "83c60b3b",
   "metadata": {},
   "outputs": [
    {
     "data": {
      "image/png": "[encoded data removed]",
      "text/plain": [
       "<Figure size 900x400 with 1 Axes>"
      ]
     },
     "metadata": {},
     "output_type": "display_data"
    }
   ],
   "source": [
    "filtre_sexe=df_duree_emploi['Sexe'].isin(['Femmes','Hommes'])\n",
    "sns.lineplot(data=df_duree_emploi[filtre_sexe], \n",
    "             x=\"Annee\", \n",
    "             y='Duree moyenne emploi',\n",
    "             hue='Sexe',\n",
    "            markers=True,\n",
    "            dashes=False)\n",
    "plt.title(label=\"Evolution de la durée d'emploi homme vs femme,1987-2022 (Source: Donnees StatCanada)\",\n",
    "          fontdict={'fontsize':10}, loc='center')\n",
    "plt.xticks(rotation=75)\n",
    "plt.show()"
   ]
  },
  {
   "cell_type": "code",
   "execution_count": 48,
   "id": "824f995b",
   "metadata": {},
   "outputs": [
    {
     "data": {
      "image/png": "[encoded data removed]",
      "text/plain": [
       "<Figure size 1116.25x500 with 2 Axes>"
      ]
     },
     "metadata": {},
     "output_type": "display_data"
    }
   ],
   "source": [
    "filtre_sexe_Ont_Qc=(df_duree_emploi['Sexe'].isin(['Femmes','Hommes'])) & (df_duree_emploi['Regions'].isin(['Ontario','Québec']))\n",
    "sns.relplot(data=df_duree_emploi[filtre_sexe_Ont_Qc],\n",
    "             x=\"Annee\", \n",
    "             y='Duree moyenne emploi',\n",
    "             hue='Sexe',\n",
    "             col='Regions',\n",
    "             kind='line',\n",
    "             #markers=True, \n",
    "            dashes=True\n",
    "            \n",
    "            )\n",
    "plt.title(label='Evolution du salaire horaire moyenne homme vs femme,1997-2021 (Source: Donnees StatCanada)',\n",
    "          fontdict={'fontsize':10}, loc='left',y=1.1)\n",
    "plt.xticks(rotation=75)\n",
    "plt.show()"
   ]
  },
  {
   "cell_type": "markdown",
   "id": "69bbf37f",
   "metadata": {},
   "source": [
    "### Distribution des effectifs par region, region /sexe"
   ]
  },
  {
   "cell_type": "code",
   "execution_count": 53,
   "id": "561d0270",
   "metadata": {},
   "outputs": [
    {
     "data": {
      "text/plain": [
       "<Figure size 800x1200 with 0 Axes>"
      ]
     },
     "metadata": {},
     "output_type": "display_data"
    },
    {
     "data": {
      "image/png": "[encoded data removed]",
      "text/plain": [
       "<Figure size 616.25x500 with 1 Axes>"
      ]
     },
     "metadata": {},
     "output_type": "display_data"
    }
   ],
   "source": [
    "#sal_empl_sexe=salaire_employe_CNP['Sexe'].isin(['Femmes','Hommes'])\n",
    "filtre_sexe=df_duree_emploi['Sexe'].isin(['Femmes','Hommes'])\n",
    "\n",
    "plt.figure(figsize=(8,12))\n",
    "sns.catplot(data=df_duree_emploi[filtre_sexe], x=\"Regions\", \n",
    "            y=\"Duree moyenne emploi\", \n",
    "            kind=\"box\",\n",
    "            hue='Sexe',\n",
    "            #palette=\"pastel\",\n",
    "           dodge=True)\n",
    "plt.title(label=\"Distribution de la durée moyenne d'emploi selon regions et sexe,donnees 1987-2022(source Statistique Canada)\",\n",
    "          fontdict={'fontsize':10}, loc='center')\n",
    "plt.xticks(rotation=75)\n",
    "plt.show()"
   ]
  },
  {
   "cell_type": "code",
   "execution_count": 54,
   "id": "0441ebe4",
   "metadata": {},
   "outputs": [
    {
     "data": {
      "text/plain": [
       "Index(['Regions', 'CNP', 'Sexe', 'Durée de l'emploi', 'Annee', 'Personnes',\n",
       "       'Duree moyenne emploi'],\n",
       "      dtype='object')"
      ]
     },
     "execution_count": 54,
     "metadata": {},
     "output_type": "execute_result"
    }
   ],
   "source": [
    "df_duree_emploi.columns"
   ]
  },
  {
   "cell_type": "code",
   "execution_count": 55,
   "id": "ce4b893a",
   "metadata": {},
   "outputs": [
    {
     "data": {
      "text/plain": [
       "array(['1 à 3 mois', '121 à 240 mois', '13 à 60 mois', '241 mois ou plus',\n",
       "       '4 à 6 mois', '61 à 120 mois', '7 à 12 mois',\n",
       "       'Emploi total, tous les mois'], dtype=object)"
      ]
     },
     "execution_count": 55,
     "metadata": {},
     "output_type": "execute_result"
    }
   ],
   "source": [
    "df_duree_emploi[\"Durée de l'emploi\"].unique()"
   ]
  },
  {
   "cell_type": "markdown",
   "id": "3f75bb9f",
   "metadata": {},
   "source": [
    "## Filtres"
   ]
  },
  {
   "cell_type": "markdown",
   "id": "9a78148a",
   "metadata": {},
   "source": [
    "* Filtrer la modalite \"Les deux sexes\" de la variable **Sexe**\n",
    "* Filtrer la modalite \"'Canada'\" de la variable **Region**"
   ]
  },
  {
   "cell_type": "code",
   "execution_count": 56,
   "id": "b655925e",
   "metadata": {},
   "outputs": [],
   "source": [
    "def filtre_df():\n",
    "    filtre_sexe=df_duree_emploi.Sexe.isin([\"Femmes\",\"Hommes\"])\n",
    "    filtre_region=df_duree_emploi[\"Regions\"]!=\"Canada\"\n",
    "    filtre_annee=(pd.Series(df_duree_emploi[\"Annee\"]).between(\"1997\",\"2021\"))\n",
    "    \n",
    "    df1=df_duree_emploi[filtre_sexe]\n",
    "    df2=df1[filtre_region]\n",
    "    df=df2[filtre_annee]\n",
    "    \n",
    "    return df"
   ]
  },
  {
   "cell_type": "code",
   "execution_count": 57,
   "id": "10f6d80b",
   "metadata": {},
   "outputs": [
    {
     "name": "stderr",
     "output_type": "stream",
     "text": [
      "C:\\Users\\daian\\AppData\\Local\\Temp\\ipykernel_8688\\2556160663.py:7: UserWarning: Boolean Series key will be reindexed to match DataFrame index.\n",
      "  df2=df1[filtre_region]\n",
      "C:\\Users\\daian\\AppData\\Local\\Temp\\ipykernel_8688\\2556160663.py:8: UserWarning: Boolean Series key will be reindexed to match DataFrame index.\n",
      "  df=df2[filtre_annee]\n"
     ]
    }
   ],
   "source": [
    "df_duree_emploi=filtre_df()"
   ]
  },
  {
   "cell_type": "code",
   "execution_count": 58,
   "id": "67395a55",
   "metadata": {},
   "outputs": [
    {
     "data": {
      "text/plain": [
       "(204000, 7)"
      ]
     },
     "execution_count": 58,
     "metadata": {},
     "output_type": "execute_result"
    }
   ],
   "source": [
    "df_duree_emploi.shape"
   ]
  },
  {
   "cell_type": "markdown",
   "id": "8aa2ad08",
   "metadata": {},
   "source": [
    "## Exporter to csv"
   ]
  },
  {
   "cell_type": "code",
   "execution_count": 60,
   "id": "55c7a6b3",
   "metadata": {},
   "outputs": [],
   "source": [
    "df_duree_emploi.to_csv(r\"D:\\Daiana\\Documents\\AEC Intelligence artificielle\\Mise en place d'un écosystème d'IA\\salary\\data\\raw\\df_duree_emploi\", index = False)"
   ]
  }
 ],
 "metadata": {
  "kernelspec": {
   "display_name": "Python 3.8.11 ('base')",
   "language": "python",
   "name": "python3"
  },
  "language_info": {
   "codemirror_mode": {
    "name": "ipython",
    "version": 3
   },
   "file_extension": ".py",
   "mimetype": "text/x-python",
   "name": "python",
   "nbconvert_exporter": "python",
   "pygments_lexer": "ipython3",
   "version": "3.8.11 (default, Aug  6 2021, 09:57:55) [MSC v.1916 64 bit (AMD64)]"
  },
  "toc": {
   "base_numbering": 1,
   "nav_menu": {},
   "number_sections": true,
   "sideBar": true,
   "skip_h1_title": false,
   "title_cell": "Table of Contents",
   "title_sidebar": "Contents",
   "toc_cell": false,
   "toc_position": {},
   "toc_section_display": true,
   "toc_window_display": true
  },
  "vscode": {
   "interpreter": {
    "hash": "d8db380b33b2117ddb9ddb9d72c31b652a5cebf8802fce41ac19771ed9585adf"
   }
  }
 },
 "nbformat": 4,
 "nbformat_minor": 5
}
