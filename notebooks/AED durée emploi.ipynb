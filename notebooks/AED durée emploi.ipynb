{
 "cells": [
  {
   "cell_type": "markdown",
   "id": "9378a572",
   "metadata": {},
   "source": [
    "# Informations sur la base de données.\n",
    "\n",
    "#### Buts de l'analyse\n",
    "\n",
    "#### Étapes de traitement des données"
   ]
  },
  {
   "cell_type": "markdown",
   "id": "9041bf2f",
   "metadata": {},
   "source": [
    "#### Importation des librairies utilisées."
   ]
  },
  {
   "cell_type": "code",
   "execution_count": null,
   "id": "95e142e9",
   "metadata": {},
   "outputs": [],
   "source": [
    "import os\n",
    "\n",
    "import sklearn\n",
    "from sklearn.model_selection import train_test_split\n",
    "\n",
    "from sklearn.preprocessing import StandardScaler\n",
    "import numpy as np\n",
    "import pandas as pd\n",
    "import matplotlib.pyplot as plt\n",
    "import seaborn as sns\n",
    "sns.set(color_codes=True)\n",
    "\n",
    "import scipy.stats as stats\n",
    "\n",
    "%matplotlib inline\n",
    "os.environ['KMP_DUPLICATE_LIB_OK']='True'\n",
    "# Pour la reproductibilité des résultats\n",
    "np.random.seed(43)\n",
    "\n",
    "import warnings\n",
    "warnings.simplefilter(action='ignore', category=FutureWarning)\n",
    "warnings.filterwarnings('ignore', '.*do not.*', )\n",
    "warnings.warn('Do not show this message')\n",
    "\n",
    "# some nice colors from http://colorbrewer2.org/\n",
    "COLOR1 = '#7fc97f'\n",
    "COLOR2 = '#beaed4'\n",
    "COLOR3 = '#fdc086'\n",
    "COLOR4 = '#ffff99'\n",
    "COLOR5 = '#386cb0'\n",
    "\n",
    "sns.set(rc={'figure.figsize':(9, 4)})\n",
    "sns.set_theme(context=\"notebook\", style=\"white\", palette=\"Set2\")"
   ]
  },
  {
   "cell_type": "markdown",
   "id": "ca7a8161",
   "metadata": {},
   "source": [
    "## Recommandations \n",
    "\n",
    "### Analyse des forme\n",
    "\n",
    "\n",
    "* **Ligne et colonne: (6498063, 7)**\n",
    "\n",
    "niveau de detail, une ligne par :\n",
    "                  Géographie, \n",
    "                  Classification nationale des professions(CNP4),\n",
    "                  Sexe,\n",
    "                  Durée de l'emploi,\t\n",
    "                  Période de référence, mensuelle\n",
    "\n",
    "* **Type de variables: 2 variables de type numérique et 5 variables qualitative.**\n",
    "\n",
    "    * Géographie : Canada, Province ou territoire\n",
    "    * Classification nationale des professions(CNP4)\n",
    "    * Sexe\n",
    "    * Mois: nombre moyenne de la durée d'emploi\n",
    "    * Personnes : le nombre des personnes \n",
    "    * Période de référence : mensuelle\n",
    "\n",
    "La repartition des individus est egale pour toutes les modalites des variables Sexe, CNP, Géographie,.Périoade de référence \n",
    "\n",
    "* La variable Regions contient 11 modalites\n",
    "* La variable CNP contient 51 modalites\n",
    "* La variable Sexe contienttient 3 modaliteses\n",
    "* La variable Durée de l'emploi contient 9 modalites\n",
    "* La variable Année/Mois contient 429 modalites\n",
    "\n",
    "\n",
    "    \n",
    "* **Valeurs extremes **\n",
    "\n",
    "On va supposer, pour l'exemple, que la base de données contient 0,5% de valeurs aberrantes de toutes sortes. Ce n'est pas exagéré. Cela représente $0,005*168300 \\approx 841$ valeurs.\n",
    "\n",
    "On utilise la méthode de la [forêt d'isolation](https://scikit-learn.org/stable/modules/generated/sklearn.ensemble.IsolationForest.html) pour détecter et éliminer un maximum de 0,5% des valeurs possiblement aberrantes.  \n",
    "    \n",
    "### Analyse de structure\n",
    "\n",
    "* Conserver seulement les variables :  \n",
    "    * Géographie : Canada, Province ou territoire,\n",
    "    * Classification nationale des professions(CNP4)\n",
    "    * Sexe\n",
    "    * Personnes\n",
    "    * Duree moyenne d'emploi\n",
    "    * Période de référence : annuelle\n",
    "\n",
    "\n",
    "### Nettoyage des donnees: Recommandations\n",
    "\n",
    "* Filtrer la modalite \"Les deux sexes\" de la variable **Sexe**\n",
    "* Filtrer la modalite \"'Canada'\" de la variable **Region**\n",
    "* Agreger l'information pour avoir une fréquence annuelle \n",
    "* Plage temporelle : 1997-2021\n",
    "\n"
   ]
  },
  {
   "cell_type": "markdown",
   "id": "2ebb6f94",
   "metadata": {},
   "source": [
    "# Partie I: Prétraitement des données.\n",
    "\n",
    "## Lecture des bases de données en format CSV.\n",
    "\n",
    "Les données sont écrites dans un DataFrame de la librairie Pandas."
   ]
  },
  {
   "cell_type": "code",
   "execution_count": null,
   "id": "4705c6ca",
   "metadata": {},
   "outputs": [],
   "source": [
    "cwd=r\"D:\\Daiana\\Documents\\AEC Intelligence artificielle\\Mise en place d'un écosystème d'IA\\salary\\data\\interim\\duree_emploi_CNP\""
   ]
  },
  {
   "cell_type": "code",
   "execution_count": null,
   "id": "db4e15f3",
   "metadata": {},
   "outputs": [],
   "source": [
    "def load_db():\n",
    "    duree_emploi_CNP=pd.read_csv(cwd,sep=\",\")\n",
    "    return duree_emploi_CNP#,postes_vacants_CNP,caractéristiques_population_active,heures_habituellement_travaille,heures_effectivement_travaille,personnes_avec_plus_un_emploi,raison_quitter_emploi,absence_travail_temps_plein"
   ]
  },
  {
   "cell_type": "code",
   "execution_count": null,
   "id": "a9395687",
   "metadata": {},
   "outputs": [],
   "source": [
    "duree_emploi_CNP=load_db()"
   ]
  },
  {
   "cell_type": "markdown",
   "id": "788d0a01",
   "metadata": {},
   "source": [
    "## Explorer les données"
   ]
  },
  {
   "cell_type": "code",
   "execution_count": null,
   "id": "0c778a54",
   "metadata": {},
   "outputs": [],
   "source": [
    "duree_emploi_CNP.head()"
   ]
  },
  {
   "cell_type": "code",
   "execution_count": null,
   "id": "e21b4e5d",
   "metadata": {},
   "outputs": [],
   "source": [
    "duree_emploi_CNP.tail()"
   ]
  },
  {
   "cell_type": "markdown",
   "id": "c0941eb5",
   "metadata": {},
   "source": [
    "### Dimensions du dataset"
   ]
  },
  {
   "cell_type": "code",
   "execution_count": null,
   "id": "e5487147",
   "metadata": {},
   "outputs": [],
   "source": [
    "print(\"Les dimensions du jeux des donnees: \", duree_emploi_CNP.shape)\n",
    "print() "
   ]
  },
  {
   "cell_type": "code",
   "execution_count": null,
   "id": "66af9abb",
   "metadata": {},
   "outputs": [],
   "source": [
    "# Size of our data set\n",
    "## le nombre de lignes multiplié par le nombre de colonnes si DataFrame.\n",
    "print(\"Nombre d’éléments:\", duree_emploi_CNP.size)\n",
    "print()"
   ]
  },
  {
   "cell_type": "markdown",
   "id": "3d841b22",
   "metadata": {},
   "source": [
    "Le nombre d'individus est égale à 6498063 et le nombre de descripteurs est égale à 7"
   ]
  },
  {
   "cell_type": "markdown",
   "id": "67f90838",
   "metadata": {},
   "source": [
    "### Type des donnees"
   ]
  },
  {
   "cell_type": "code",
   "execution_count": null,
   "id": "6974a10d",
   "metadata": {},
   "outputs": [],
   "source": [
    "duree_emploi_CNP.dtypes"
   ]
  },
  {
   "cell_type": "code",
   "execution_count": null,
   "id": "ec9d8287",
   "metadata": {},
   "outputs": [],
   "source": [
    "duree_emploi_CNP.dtypes.value_counts()"
   ]
  },
  {
   "cell_type": "markdown",
   "id": "c62b6977",
   "metadata": {},
   "source": [
    "Le jeu des données a 2 variables de type numérique et 5 variables qualitative."
   ]
  },
  {
   "cell_type": "code",
   "execution_count": null,
   "id": "a4ab7d2b",
   "metadata": {},
   "outputs": [],
   "source": [
    "duree_emploi_CNP.describe()"
   ]
  },
  {
   "cell_type": "code",
   "execution_count": null,
   "id": "9380200c",
   "metadata": {},
   "outputs": [],
   "source": [
    "duree_emploi_CNP.info()"
   ]
  },
  {
   "cell_type": "markdown",
   "id": "c0c84396",
   "metadata": {},
   "source": [
    "### Affichage du nombre de valeurs manquantes Nans dans le DataFrame."
   ]
  },
  {
   "cell_type": "code",
   "execution_count": null,
   "id": "becf99d0",
   "metadata": {},
   "outputs": [],
   "source": [
    "duree_emploi_CNP.isna().sum()"
   ]
  },
  {
   "cell_type": "code",
   "execution_count": null,
   "id": "02abc5c8",
   "metadata": {},
   "outputs": [],
   "source": [
    "duree_emploi_CNP[duree_emploi_CNP.Mois.notnull()][\"Durée de l'emploi\"].value_counts()"
   ]
  },
  {
   "cell_type": "code",
   "execution_count": null,
   "id": "ffb0b14f",
   "metadata": {},
   "outputs": [],
   "source": [
    "duree_emploi_CNP[duree_emploi_CNP.Mois.notnull()]"
   ]
  },
  {
   "cell_type": "markdown",
   "id": "043c1aa1",
   "metadata": {},
   "source": [
    "### Pivoter la Duree de l emploi"
   ]
  },
  {
   "cell_type": "code",
   "execution_count": null,
   "id": "8337ff3a",
   "metadata": {},
   "outputs": [],
   "source": [
    "\n",
    "df1_=duree_emploi_CNP[duree_emploi_CNP.Mois.notnull()][[\"Annee/Mois\",\"Regions\",\"CNP\",\"Sexe\",\"Durée de l'emploi\",\"Mois\"]].set_index([\"Annee/Mois\",\"Regions\",\"CNP\",\"Sexe\"])"
   ]
  },
  {
   "cell_type": "code",
   "execution_count": null,
   "id": "cc423c80",
   "metadata": {},
   "outputs": [],
   "source": [
    "df1_.columns"
   ]
  },
  {
   "cell_type": "code",
   "execution_count": null,
   "id": "f0f23bbc",
   "metadata": {},
   "outputs": [],
   "source": [
    "duree_emploi_CNP[duree_emploi_CNP.Mois.isnull()][\"Durée de l'emploi\"].value_counts()"
   ]
  },
  {
   "cell_type": "code",
   "execution_count": null,
   "id": "29656059",
   "metadata": {},
   "outputs": [],
   "source": [
    "df2_=duree_emploi_CNP[duree_emploi_CNP.Mois.isnull()][[\"Annee/Mois\",\"Regions\",\"CNP\",\"Sexe\",\"Durée de l'emploi\",\"Personnes\"]].set_index([\"Annee/Mois\",\"Regions\",\"CNP\",\"Sexe\"])"
   ]
  },
  {
   "cell_type": "code",
   "execution_count": null,
   "id": "0f88005b",
   "metadata": {},
   "outputs": [],
   "source": [
    "df2_"
   ]
  },
  {
   "cell_type": "code",
   "execution_count": null,
   "id": "3f591882",
   "metadata": {},
   "outputs": [],
   "source": [
    "duree_emploi_CNP_=df1_.merge(df2_,how=\"inner\",left_index=True, right_index=True).reset_index()"
   ]
  },
  {
   "cell_type": "code",
   "execution_count": null,
   "id": "41243875",
   "metadata": {},
   "outputs": [],
   "source": [
    "duree_emploi_CNP_"
   ]
  },
  {
   "cell_type": "code",
   "execution_count": null,
   "id": "ef53ffad",
   "metadata": {},
   "outputs": [],
   "source": [
    "duree_emploi_CNP_.rename(columns={\"Mois\":\"Duree moyenne emploi\",\"Durée de l'emploi_y\":\"Durée de l'emploi\"},inplace=True)"
   ]
  },
  {
   "cell_type": "code",
   "execution_count": null,
   "id": "557d86b7",
   "metadata": {},
   "outputs": [],
   "source": [
    "duree_emploi_CNP_=duree_emploi_CNP_.drop(\"Durée de l'emploi_x\",axis=1)"
   ]
  },
  {
   "cell_type": "code",
   "execution_count": null,
   "id": "8c8f3ada",
   "metadata": {},
   "outputs": [],
   "source": [
    "duree_emploi_CNP_.shape"
   ]
  },
  {
   "cell_type": "markdown",
   "id": "5052ce64",
   "metadata": {},
   "source": [
    "### Analyse caractéristiques catégorielles"
   ]
  },
  {
   "cell_type": "markdown",
   "id": "20b730fe",
   "metadata": {},
   "source": [
    "#### Séparer les données en colonnes numériques et catégorielle"
   ]
  },
  {
   "cell_type": "code",
   "execution_count": null,
   "id": "a896538d",
   "metadata": {},
   "outputs": [],
   "source": [
    "cat_col=[]\n",
    "num_col=[]\n",
    "\n",
    "for col in duree_emploi_CNP_.columns:\n",
    "    if duree_emploi_CNP_[col].dtypes==\"object\":\n",
    "        cat_col.append(col)\n",
    "    else:\n",
    "        num_col.append(col)\n",
    "print (\"Variable catégorielle:\",cat_col)\n",
    "print(\"Variable numériques:\",num_col)"
   ]
  },
  {
   "cell_type": "markdown",
   "id": "9c924f5e",
   "metadata": {},
   "source": [
    "#### Nombre valeurs uniques"
   ]
  },
  {
   "cell_type": "code",
   "execution_count": null,
   "id": "386e6519",
   "metadata": {},
   "outputs": [],
   "source": [
    "for col in cat_col:\n",
    "    print(col,'({})'.format(duree_emploi_CNP_[col].nunique()),\":\")\n",
    "    print(duree_emploi_CNP_[col].value_counts())\n",
    "    print()\n",
    "    print()"
   ]
  },
  {
   "cell_type": "markdown",
   "id": "ca52ab19",
   "metadata": {},
   "source": [
    "* La variable Regions contient 11 modalites\n",
    "* La variable CNP contient 51 modalites\n",
    "* La variable Sexe contienttient 3 modaliteses\n",
    "* La variable Durée de l'emploi contient 9 modalites\n",
    "* La variable Année/Mois contient 429 modalites\n",
    "\n",
    "\n",
    "Note: La répartition des données est égale pour toutes les modalités de chaque catégories"
   ]
  },
  {
   "cell_type": "markdown",
   "id": "6313b252",
   "metadata": {},
   "source": [
    "### Analyse caractéristiques numériques"
   ]
  },
  {
   "cell_type": "code",
   "execution_count": null,
   "id": "83196e27",
   "metadata": {},
   "outputs": [],
   "source": [
    "duree_emploi_CNP_.describe()"
   ]
  },
  {
   "cell_type": "markdown",
   "id": "be93b93e",
   "metadata": {},
   "source": [
    "La durée moyenne de travail est de 96 mois (~ 8 ans).\n",
    "Au moins 75% des personnes ont travailler 119.5 mois (~ 10 ans)"
   ]
  },
  {
   "cell_type": "code",
   "execution_count": null,
   "id": "074637c9",
   "metadata": {},
   "outputs": [],
   "source": [
    "duree_emploi_CNP_0=duree_emploi_CNP_[duree_emploi_CNP_[\"Duree moyenne emploi\"]==0.0]"
   ]
  },
  {
   "cell_type": "code",
   "execution_count": null,
   "id": "700a90e2",
   "metadata": {},
   "outputs": [],
   "source": [
    "(duree_emploi_CNP_[duree_emploi_CNP_[\"Duree moyenne emploi\"]==0.0].shape[0]/duree_emploi_CNP_.shape[0])*100"
   ]
  },
  {
   "cell_type": "markdown",
   "id": "44c8c8f1",
   "metadata": {},
   "source": [
    "Il y a 4% (227.184) occurences dont les variables duree moyenne emploi, et personnes ont la valeur 0.0 "
   ]
  },
  {
   "cell_type": "code",
   "execution_count": null,
   "id": "5e8d85aa",
   "metadata": {},
   "outputs": [],
   "source": [
    "def process_date(dg):\n",
    "    return pd.DataFrame([[\n",
    "                        dg[\"Personnes\"].sum(),\n",
    "                        dg[\"Duree moyenne emploi\"].mean(),\n",
    "                        ]], columns=[\"Personnes\", \"Duree moyenne emploi\"])\n",
    "\n",
    "duree_emploi_CNP_0.groupby([\"Regions\",\"CNP\",\"Sexe\",\"Durée de l'emploi\",\"Annee/Mois\"]).apply(process_date).reset_index(4, drop=True).reset_index(drop=False)"
   ]
  },
  {
   "cell_type": "markdown",
   "id": "17c7b22f",
   "metadata": {},
   "source": [
    "### Agregation par année"
   ]
  },
  {
   "cell_type": "code",
   "execution_count": null,
   "id": "9395cbec",
   "metadata": {},
   "outputs": [],
   "source": [
    "duree_emploi_CNP_['Annee'] = duree_emploi_CNP_['Annee/Mois'].str[:4]"
   ]
  },
  {
   "cell_type": "code",
   "execution_count": null,
   "id": "79d9bfe7",
   "metadata": {},
   "outputs": [],
   "source": [
    "duree_emploi_CNP_.head()"
   ]
  },
  {
   "cell_type": "code",
   "execution_count": null,
   "id": "bee57329",
   "metadata": {},
   "outputs": [],
   "source": [
    "def process_date(dg):\n",
    "    return pd.DataFrame([[\n",
    "                        dg[\"Personnes\"].sum(),\n",
    "                        dg[\"Duree moyenne emploi\"].mean(),\n",
    "                        ]], columns=[\"Personnes\", \"Duree moyenne emploi\"])\n",
    "\n"
   ]
  },
  {
   "cell_type": "code",
   "execution_count": null,
   "id": "8ba25a8e",
   "metadata": {},
   "outputs": [],
   "source": [
    "df_duree_emploi=duree_emploi_CNP_.groupby([\"Regions\",\"CNP\",\"Sexe\",\"Durée de l'emploi\",\"Annee\"]).apply(process_date).reset_index(5, drop=True).reset_index(drop=False)"
   ]
  },
  {
   "cell_type": "code",
   "execution_count": null,
   "id": "cd30576a",
   "metadata": {},
   "outputs": [],
   "source": [
    "df_duree_emploi.describe()"
   ]
  },
  {
   "cell_type": "markdown",
   "id": "f1d511ee",
   "metadata": {},
   "source": [
    "## Visualisation des données"
   ]
  },
  {
   "cell_type": "markdown",
   "id": "2d117e4e",
   "metadata": {},
   "source": [
    "Avec les année la difference homme vs femme de la durée d'emploi a diminuer.  "
   ]
  },
  {
   "cell_type": "code",
   "execution_count": null,
   "id": "83c60b3b",
   "metadata": {},
   "outputs": [],
   "source": [
    "filtre_sexe=df_duree_emploi['Sexe'].isin(['Femmes','Hommes'])\n",
    "sns.lineplot(data=df_duree_emploi[filtre_sexe], \n",
    "             x=\"Annee\", \n",
    "             y='Duree moyenne emploi',\n",
    "             hue='Sexe',\n",
    "            markers=True,\n",
    "            dashes=False)\n",
    "plt.title(label=\"Evolution de la durée d'emploi homme vs femme,1987-2022 (Source: Donnees StatCanada)\",\n",
    "          fontdict={'fontsize':10}, loc='center')\n",
    "plt.xticks(rotation=75)\n",
    "plt.show()"
   ]
  },
  {
   "cell_type": "code",
   "execution_count": null,
   "id": "824f995b",
   "metadata": {},
   "outputs": [],
   "source": [
    "filtre_sexe_Ont_Qc=(df_duree_emploi['Sexe'].isin(['Femmes','Hommes'])) & (df_duree_emploi['Regions'].isin(['Ontario','Québec']))\n",
    "sns.relplot(data=df_duree_emploi[filtre_sexe_Ont_Qc],\n",
    "             x=\"Annee\", \n",
    "             y='Duree moyenne emploi',\n",
    "             hue='Sexe',\n",
    "             col='Regions',\n",
    "             kind='line',\n",
    "             #markers=True, \n",
    "            dashes=True\n",
    "            \n",
    "            )\n",
    "plt.title(label='Evolution du salaire horaire moyenne homme vs femme,1997-2021 (Source: Donnees StatCanada)',\n",
    "          fontdict={'fontsize':10}, loc='left',y=1.1)\n",
    "plt.xticks(rotation=75)\n",
    "plt.show()"
   ]
  },
  {
   "cell_type": "markdown",
   "id": "69bbf37f",
   "metadata": {},
   "source": [
    "### Distribution des effectifs par region, region /sexe"
   ]
  },
  {
   "cell_type": "code",
   "execution_count": null,
   "id": "561d0270",
   "metadata": {},
   "outputs": [],
   "source": [
    "#sal_empl_sexe=salaire_employe_CNP['Sexe'].isin(['Femmes','Hommes'])\n",
    "filtre_sexe=df_duree_emploi['Sexe'].isin(['Femmes','Hommes'])\n",
    "\n",
    "plt.figure(figsize=(8,12))\n",
    "sns.catplot(data=df_duree_emploi[filtre_sexe], x=\"Regions\", \n",
    "            y=\"Duree moyenne emploi\", \n",
    "            kind=\"box\",\n",
    "            hue='Sexe',\n",
    "            #palette=\"pastel\",\n",
    "           dodge=True)\n",
    "plt.title(label=\"Distribution de la durée moyenne d'emploi selon regions et sexe,donnees 1987-2022(source Statistique Canada)\",\n",
    "          fontdict={'fontsize':10}, loc='center')\n",
    "plt.xticks(rotation=75)\n",
    "plt.show()"
   ]
  },
  {
   "cell_type": "code",
   "execution_count": null,
   "id": "0441ebe4",
   "metadata": {},
   "outputs": [],
   "source": [
    "df_duree_emploi.columns"
   ]
  },
  {
   "cell_type": "code",
   "execution_count": null,
   "id": "ce4b893a",
   "metadata": {},
   "outputs": [],
   "source": [
    "df_duree_emploi[\"Durée de l'emploi\"].unique()"
   ]
  },
  {
   "cell_type": "markdown",
   "id": "3f75bb9f",
   "metadata": {},
   "source": [
    "## Filtres"
   ]
  },
  {
   "cell_type": "markdown",
   "id": "9a78148a",
   "metadata": {},
   "source": [
    "* Filtrer la modalite \"Les deux sexes\" de la variable **Sexe**\n",
    "* Filtrer la modalite \"'Canada'\" de la variable **Region**"
   ]
  },
  {
   "cell_type": "code",
   "execution_count": null,
   "id": "b655925e",
   "metadata": {},
   "outputs": [],
   "source": [
    "def filtre_df():\n",
    "    filtre_sexe=df_duree_emploi.Sexe.isin([\"Femmes\",\"Hommes\"])\n",
    "    filtre_region=df_duree_emploi[\"Regions\"]!=\"Canada\"\n",
    "    filtre_annee=(pd.Series(df_duree_emploi[\"Annee\"]).between(\"1997\",\"2021\"))\n",
    "    \n",
    "    df1=df_duree_emploi[filtre_sexe]\n",
    "    df2=df1[filtre_region]\n",
    "    df=df2[filtre_annee]\n",
    "    \n",
    "    return df"
   ]
  },
  {
   "cell_type": "code",
   "execution_count": null,
   "id": "10f6d80b",
   "metadata": {},
   "outputs": [],
   "source": [
    "df_duree_emploi=filtre_df()"
   ]
  },
  {
   "cell_type": "code",
   "execution_count": null,
   "id": "67395a55",
   "metadata": {},
   "outputs": [],
   "source": [
    "df_duree_emploi.shape"
   ]
  },
  {
   "cell_type": "markdown",
   "id": "8aa2ad08",
   "metadata": {},
   "source": [
    "## Exporter to csv"
   ]
  },
  {
   "cell_type": "code",
   "execution_count": null,
   "id": "55c7a6b3",
   "metadata": {},
   "outputs": [],
   "source": [
    "df_duree_emploi.to_csv(r\"D:\\Daiana\\Documents\\AEC Intelligence artificielle\\Mise en place d'un écosystème d'IA\\salary\\data\\raw\\df_duree_emploi\", index = False)"
   ]
  }
 ],
 "metadata": {
  "kernelspec": {
   "display_name": "Python 3.8.11 ('base')",
   "language": "python",
   "name": "python3"
  },
  "language_info": {
   "codemirror_mode": {
    "name": "ipython",
    "version": 3
   },
   "file_extension": ".py",
   "mimetype": "text/x-python",
   "name": "python",
   "nbconvert_exporter": "python",
   "pygments_lexer": "ipython3",
   "version": "3.8.11 (default, Aug  6 2021, 09:57:55) [MSC v.1916 64 bit (AMD64)]"
  },
  "toc": {
   "base_numbering": 1,
   "nav_menu": {},
   "number_sections": true,
   "sideBar": true,
   "skip_h1_title": false,
   "title_cell": "Table of Contents",
   "title_sidebar": "Contents",
   "toc_cell": false,
   "toc_position": {},
   "toc_section_display": true,
   "toc_window_display": true
  },
  "vscode": {
   "interpreter": {
    "hash": "d8db380b33b2117ddb9ddb9d72c31b652a5cebf8802fce41ac19771ed9585adf"
   }
  }
 },
 "nbformat": 4,
 "nbformat_minor": 5
}
